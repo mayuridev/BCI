{
 "cells": [
  {
   "cell_type": "code",
   "execution_count": null,
   "id": "660283d7",
   "metadata": {
    "execution": {
     "iopub.execute_input": "2023-03-19T15:06:08.991731Z",
     "iopub.status.busy": "2023-03-19T15:06:08.990908Z",
     "iopub.status.idle": "2023-03-19T15:06:19.504598Z",
     "shell.execute_reply": "2023-03-19T15:06:19.503248Z"
    },
    "id": "21374870",
    "outputId": "7c143522-76a8-428e-c496-9d28d6d8cbdd",
    "papermill": {
     "duration": 10.5341,
     "end_time": "2023-03-19T15:06:19.507387",
     "exception": false,
     "start_time": "2023-03-19T15:06:08.973287",
     "status": "completed"
    },
    "tags": []
   },
   "outputs": [],
   "source": [
    "!pip install torchmetrics"
   ]
  },
  {
   "cell_type": "markdown",
   "id": "46257c1d",
   "metadata": {
    "id": "700604d4",
    "papermill": {
     "duration": 0.015876,
     "end_time": "2023-03-19T15:06:19.540659",
     "exception": false,
     "start_time": "2023-03-19T15:06:19.524783",
     "status": "completed"
    },
    "tags": []
   },
   "source": [
    "# Import Libraries"
   ]
  },
  {
   "cell_type": "code",
   "execution_count": null,
   "id": "38d6c5db",
   "metadata": {
    "execution": {
     "iopub.execute_input": "2023-03-19T15:06:19.574971Z",
     "iopub.status.busy": "2023-03-19T15:06:19.574650Z",
     "iopub.status.idle": "2023-03-19T15:06:25.341412Z",
     "shell.execute_reply": "2023-03-19T15:06:25.340294Z"
    },
    "id": "f22b4208",
    "papermill": {
     "duration": 5.787147,
     "end_time": "2023-03-19T15:06:25.344190",
     "exception": false,
     "start_time": "2023-03-19T15:06:19.557043",
     "status": "completed"
    },
    "tags": []
   },
   "outputs": [],
   "source": [
    "import os\n",
    "import torch\n",
    "import librosa\n",
    "import torchaudio\n",
    "import numpy as np\n",
    "import torch.nn as nn\n",
    "import matplotlib.pyplot as plt\n",
    "from torch.autograd import Variable\n",
    "\n",
    "import torchmetrics\n",
    "\n",
    "device = \"cuda\" if torch.cuda.is_available() else \"cpu\""
   ]
  },
  {
   "cell_type": "code",
   "execution_count": null,
   "id": "8faf0f11",
   "metadata": {
    "execution": {
     "iopub.execute_input": "2023-03-19T15:06:25.378295Z",
     "iopub.status.busy": "2023-03-19T15:06:25.377954Z",
     "iopub.status.idle": "2023-03-19T15:06:25.390303Z",
     "shell.execute_reply": "2023-03-19T15:06:25.389481Z"
    },
    "id": "AhMCQebQzjMV",
    "papermill": {
     "duration": 0.031404,
     "end_time": "2023-03-19T15:06:25.392331",
     "exception": false,
     "start_time": "2023-03-19T15:06:25.360927",
     "status": "completed"
    },
    "tags": []
   },
   "outputs": [],
   "source": [
    "torch.manual_seed(0)\n",
    "torch.cuda.manual_seed_all(0)"
   ]
  },
  {
   "cell_type": "markdown",
   "id": "2a933d57",
   "metadata": {
    "id": "3d841318",
    "papermill": {
     "duration": 0.015539,
     "end_time": "2023-03-19T15:06:25.424098",
     "exception": false,
     "start_time": "2023-03-19T15:06:25.408559",
     "status": "completed"
    },
    "tags": []
   },
   "source": [
    "# Configuration"
   ]
  },
  {
   "cell_type": "code",
   "execution_count": null,
   "id": "1b1b1757",
   "metadata": {
    "execution": {
     "iopub.execute_input": "2023-03-19T15:06:25.458285Z",
     "iopub.status.busy": "2023-03-19T15:06:25.456909Z",
     "iopub.status.idle": "2023-03-19T15:06:25.463940Z",
     "shell.execute_reply": "2023-03-19T15:06:25.463089Z"
    },
    "id": "130a59e3",
    "papermill": {
     "duration": 0.026017,
     "end_time": "2023-03-19T15:06:25.466036",
     "exception": false,
     "start_time": "2023-03-19T15:06:25.440019",
     "status": "completed"
    },
    "tags": []
   },
   "outputs": [],
   "source": [
    "class CFG:\n",
    "    sr=16000\n",
    "    n_fft=1024\n",
    "    hop_length=512\n",
    "    n_mels=100\n",
    "    num_output=50\n",
    "    max_length = 500\n",
    "    \n",
    "    batch_size = 4 #16\n",
    "    worker = os.cpu_count()        #16\n",
    "    num_channels = 100 #80\n",
    "    \n",
    "    dataset_list = [\"dev-clean\", \"dev-other\", \"test-clean\", \"test-other\", \n",
    "                    \"train-clean-100\",\"train-clean-360\", \"train-other-500\"]\n",
    "    DEVICE = \"cuda\" if torch.cuda.is_available() else \"cpu\""
   ]
  },
  {
   "cell_type": "code",
   "execution_count": null,
   "id": "17d1abaa",
   "metadata": {
    "execution": {
     "iopub.execute_input": "2023-03-19T15:06:25.499929Z",
     "iopub.status.busy": "2023-03-19T15:06:25.499661Z",
     "iopub.status.idle": "2023-03-19T15:06:25.505221Z",
     "shell.execute_reply": "2023-03-19T15:06:25.504256Z"
    },
    "id": "df5d7d9d",
    "papermill": {
     "duration": 0.024771,
     "end_time": "2023-03-19T15:06:25.507246",
     "exception": false,
     "start_time": "2023-03-19T15:06:25.482475",
     "status": "completed"
    },
    "tags": []
   },
   "outputs": [],
   "source": [
    "char_list = ['<pad>', '<sos>', '<eos>', '<unk>', \" \", \"A\", \"B\", \"C\", \"D\", \"E\", \"F\", \"G\",\"H\", \"I\", \"J\", \"K\", \"L\", \"M\", \"N\", \"O\", \"P\", \"Q\", \"R\", \"S\", \"T\", \"U\", \"V\", \"W\", \"X\", \"Y\", \"Z\", \"'\"]\n",
    "char2id = {v:k for k,v in enumerate(char_list)}\n",
    "id2char = {k:v for k,v in enumerate(char_list)}"
   ]
  },
  {
   "cell_type": "code",
   "execution_count": null,
   "id": "b91a715e",
   "metadata": {
    "execution": {
     "iopub.execute_input": "2023-03-19T15:06:25.540353Z",
     "iopub.status.busy": "2023-03-19T15:06:25.540064Z",
     "iopub.status.idle": "2023-03-19T15:06:25.544713Z",
     "shell.execute_reply": "2023-03-19T15:06:25.543689Z"
    },
    "id": "d937a1ee",
    "papermill": {
     "duration": 0.02395,
     "end_time": "2023-03-19T15:06:25.546964",
     "exception": false,
     "start_time": "2023-03-19T15:06:25.523014",
     "status": "completed"
    },
    "tags": []
   },
   "outputs": [],
   "source": [
    "PAD_TOKEN = int(char2id['<pad>'])\n",
    "SOS_TOKEN = int(char2id['<sos>'])\n",
    "EOS_TOKEN = int(char2id['<eos>'])\n",
    "UNK_TOKEN = int(char2id['<unk>'])"
   ]
  },
  {
   "cell_type": "markdown",
   "id": "5b09f9d3",
   "metadata": {
    "id": "6aef8d2f",
    "papermill": {
     "duration": 0.016028,
     "end_time": "2023-03-19T15:06:25.579187",
     "exception": false,
     "start_time": "2023-03-19T15:06:25.563159",
     "status": "completed"
    },
    "tags": []
   },
   "source": [
    "# Bi-LSTM & PYRAMID Bi-LSTM"
   ]
  },
  {
   "attachments": {
    "22c681ba-77f3-40ae-b287-319fe6fdf7a6.png": {
     "image/png": "[encoded data removed]"
    },
    "f448d02e-9f1f-47f5-ab4b-7d360d98570e.png": {
     "image/png": "[encoded data removed]"
    }
   },
   "cell_type": "markdown",
   "id": "63c12112",
   "metadata": {
    "id": "3e27c738",
    "papermill": {
     "duration": 0.01599,
     "end_time": "2023-03-19T15:06:25.611272",
     "exception": false,
     "start_time": "2023-03-19T15:06:25.595282",
     "status": "completed"
    },
    "tags": []
   },
   "source": [
    "![image.png](attachment:f448d02e-9f1f-47f5-ab4b-7d360d98570e.png)![image.png](attachment:22c681ba-77f3-40ae-b287-319fe6fdf7a6.png)"
   ]
  },
  {
   "cell_type": "code",
   "execution_count": null,
   "id": "c6c5c320",
   "metadata": {
    "execution": {
     "iopub.execute_input": "2023-03-19T15:06:25.645423Z",
     "iopub.status.busy": "2023-03-19T15:06:25.645073Z",
     "iopub.status.idle": "2023-03-19T15:06:25.659799Z",
     "shell.execute_reply": "2023-03-19T15:06:25.658752Z"
    },
    "id": "3f37d586",
    "papermill": {
     "duration": 0.034672,
     "end_time": "2023-03-19T15:06:25.662017",
     "exception": false,
     "start_time": "2023-03-19T15:06:25.627345",
     "status": "completed"
    },
    "tags": []
   },
   "outputs": [],
   "source": [
    "class BLSTM(nn.Module):\n",
    "    def __init__(self, input_dim, hidden_dim, dropout=0.0, n_layers=1, bidirectional=True):\n",
    "        super(BLSTM, self).__init__()\n",
    "        \n",
    "        self.input_dim = input_dim\n",
    "        self.hidden_dim = hidden_dim\n",
    "        self.n_layers = n_layers\n",
    "        self.bidirectional = bidirectional\n",
    "        \n",
    "        self.rnn = nn.LSTM(\n",
    "            input_size=self.input_dim << 1,\n",
    "            hidden_size=self.hidden_dim,\n",
    "            num_layers=self.n_layers,\n",
    "            bidirectional = self.bidirectional,\n",
    "            dropout=dropout,\n",
    "            batch_first=True\n",
    "        )\n",
    "\n",
    "    def forward(self, inputs):\n",
    "        if isinstance(inputs, tuple):\n",
    "            inputs, hc = inputs\n",
    "        \n",
    "        batch_size = inputs.size(0)\n",
    "        seq_len = inputs.size(1)\n",
    "        input_size = inputs.size(2)\n",
    "        \n",
    "        if seq_len % 2:\n",
    "            zeros = torch.zeros((inputs.size(0), 1, inputs.size(2))).to(device)\n",
    "            inputs = torch.cat([inputs, zeros], dim = 1)\n",
    "            seq_len += 1\n",
    "        inputs = inputs.contiguous().view(batch_size, int(seq_len / 2), input_size * 2)\n",
    "        \n",
    "        output, hc = self.rnn(inputs, hc)\n",
    "        return (output, hc)\n",
    "\n",
    "class Listener(nn.Module):\n",
    "    def __init__(self, input_dim, hidden_dim, dropout=0.0, n_layers=1, bidirectional=True):\n",
    "        super(Listener, self).__init__()\n",
    "        self.input_dim = input_dim\n",
    "        self.hidden_dim = hidden_dim\n",
    "        self.n_layers = n_layers\n",
    "        self.bidirectional = True\n",
    "        \n",
    "        self.pblstm = nn.Sequential(\n",
    "            BLSTM(\n",
    "                input_dim=self.input_dim,\n",
    "                hidden_dim=self.hidden_dim,\n",
    "                dropout=dropout,\n",
    "                n_layers=n_layers,\n",
    "                bidirectional = self.bidirectional\n",
    "            ),\n",
    "            BLSTM(\n",
    "                input_dim=self.hidden_dim << 1 if self.bidirectional else 0,\n",
    "                hidden_dim=self.hidden_dim,\n",
    "                dropout=dropout,\n",
    "                n_layers=n_layers,\n",
    "                bidirectional = self.bidirectional\n",
    "            ),\n",
    "            BLSTM(\n",
    "                input_dim=self.hidden_dim << 1 if self.bidirectional else 0,\n",
    "                hidden_dim=self.hidden_dim,\n",
    "                dropout=dropout,\n",
    "                n_layers=n_layers,\n",
    "                bidirectional = self.bidirectional\n",
    "            ))\n",
    "    \n",
    "    def init_hidden(self, batch_size):\n",
    "        hidden = Variable(torch.zeros(self.n_layers * 2 if self.bidirectional else 1, batch_size, self.hidden_dim))\n",
    "        cell = Variable(torch.zeros(self.n_layers * 2 if self.bidirectional else 1, batch_size, self.hidden_dim))\n",
    "        return (hidden.to(device),cell.to(device))\n",
    "    \n",
    "    def forward(self, inputs):\n",
    "        hc = self.init_hidden(inputs.size(0))\n",
    "        output, state = self.pblstm((inputs, hc))\n",
    "        return output, state"
   ]
  },
  {
   "cell_type": "markdown",
   "id": "1fba1bba",
   "metadata": {
    "id": "c8a6386a",
    "papermill": {
     "duration": 0.016017,
     "end_time": "2023-03-19T15:06:25.694857",
     "exception": false,
     "start_time": "2023-03-19T15:06:25.678840",
     "status": "completed"
    },
    "tags": []
   },
   "source": [
    "# Attention"
   ]
  },
  {
   "attachments": {
    "9e51dd29-a4c6-427f-a0c0-1537e070f175.png": {
     "image/png": "[encoded data removed]"
    }
   },
   "cell_type": "markdown",
   "id": "ba1a9930",
   "metadata": {
    "id": "8c4a6405",
    "papermill": {
     "duration": 0.015786,
     "end_time": "2023-03-19T15:06:25.726815",
     "exception": false,
     "start_time": "2023-03-19T15:06:25.711029",
     "status": "completed"
    },
    "tags": []
   },
   "source": [
    "![image.png](attachment:9e51dd29-a4c6-427f-a0c0-1537e070f175.png)"
   ]
  },
  {
   "cell_type": "code",
   "execution_count": null,
   "id": "e908a788",
   "metadata": {
    "execution": {
     "iopub.execute_input": "2023-03-19T15:06:25.760440Z",
     "iopub.status.busy": "2023-03-19T15:06:25.760093Z",
     "iopub.status.idle": "2023-03-19T15:06:25.774222Z",
     "shell.execute_reply": "2023-03-19T15:06:25.773244Z"
    },
    "id": "f4f833b1",
    "papermill": {
     "duration": 0.033567,
     "end_time": "2023-03-19T15:06:25.776317",
     "exception": false,
     "start_time": "2023-03-19T15:06:25.742750",
     "status": "completed"
    },
    "tags": []
   },
   "outputs": [],
   "source": [
    "class ScaledDotProductAttention(nn.Module):\n",
    "    def __init__(self, dim):\n",
    "        super(ScaledDotProductAttention, self).__init__()\n",
    "        self.dim = dim\n",
    "\n",
    "    def forward(self, query, key, value):\n",
    "        score = torch.bmm(query, key.transpose(1, 2)) / np.sqrt(self.dim) # batch matrix multiplication\n",
    "        attn = F.softmax(score, dim=-1)\n",
    "        output = torch.bmm(attn, value)\n",
    "        return output, attn\n",
    "\n",
    "class MultiHeadAttention(nn.Module):\n",
    "    def __init__(self, hidden_dim, num_heads=8):\n",
    "        super(MultiHeadAttention, self).__init__()\n",
    "        \n",
    "        self.hidden_dim = hidden_dim\n",
    "        self.num_heads = num_heads\n",
    "        self.dim = hidden_dim // num_heads\n",
    "        \n",
    "        assert hidden_dim % self.num_heads == 0\n",
    "        \n",
    "        self.scaled_dot = ScaledDotProductAttention(self.dim)\n",
    "        \n",
    "        # WQ, WK, WV\n",
    "        self.query_projection = nn.Linear(hidden_dim, self.hidden_dim)\n",
    "        self.key_projection   = nn.Linear(hidden_dim, self.hidden_dim)\n",
    "        self.value_projection = nn.Linear(hidden_dim, self.hidden_dim)\n",
    "        \n",
    "        # WO\n",
    "        self.out_projection = nn.Linear(hidden_dim << 1, self.hidden_dim, bias=True)\n",
    "        \n",
    "    def split_heads(self, inputs, batch_size):\n",
    "        inputs = inputs.view(batch_size, -1, self.num_heads, self.dim)\n",
    "        return inputs.permute(2, 0, 1, 3).contiguous().view(batch_size * self.num_heads, -1, self.dim)\n",
    "\n",
    "    def forward(self, query, value, prev_attn=None):\n",
    "        batch_size = value.size(0)\n",
    "        residual = query\n",
    "\n",
    "        query = self.query_projection(query).view(batch_size, -1, self.num_heads, self.dim)\n",
    "        key = self.key_projection(value).view(batch_size, -1, self.num_heads, self.dim)\n",
    "        value = self.value_projection(value).view(batch_size, -1, self.num_heads, self.dim)\n",
    "\n",
    "        query = self.split_heads(query, batch_size)\n",
    "        key = self.split_heads(key, batch_size)\n",
    "        value = self.split_heads(value, batch_size)\n",
    "\n",
    "        context, attn = self.scaled_dot(query, key, value)\n",
    "        context = context.view(self.num_heads, batch_size, -1, self.dim)\n",
    "        \n",
    "        context = context.permute(1, 2, 0, 3).contiguous().view(batch_size, -1, self.num_heads * self.dim)\n",
    "        combined = torch.cat([context, residual], dim=2)\n",
    "\n",
    "        output = torch.tanh(self.out_projection(combined.view(-1, self.hidden_dim << 1))).view(batch_size, -1, self.hidden_dim)\n",
    "        \n",
    "        return output, context"
   ]
  },
  {
   "cell_type": "markdown",
   "id": "57b07d47",
   "metadata": {
    "id": "d3e903d3",
    "papermill": {
     "duration": 0.015795,
     "end_time": "2023-03-19T15:06:25.808603",
     "exception": false,
     "start_time": "2023-03-19T15:06:25.792808",
     "status": "completed"
    },
    "tags": []
   },
   "source": [
    "# Speller"
   ]
  },
  {
   "attachments": {
    "cc3684c6-62b2-4db6-895b-ccd6ed371dce.png": {
     "image/png": "[encoded data removed]"
    }
   },
   "cell_type": "markdown",
   "id": "979b3eae",
   "metadata": {
    "id": "d93aa335",
    "papermill": {
     "duration": 0.016025,
     "end_time": "2023-03-19T15:06:25.840605",
     "exception": false,
     "start_time": "2023-03-19T15:06:25.824580",
     "status": "completed"
    },
    "tags": []
   },
   "source": [
    "![image.png](attachment:cc3684c6-62b2-4db6-895b-ccd6ed371dce.png)"
   ]
  },
  {
   "cell_type": "code",
   "execution_count": null,
   "id": "9664926d",
   "metadata": {
    "execution": {
     "iopub.execute_input": "2023-03-19T15:06:25.874440Z",
     "iopub.status.busy": "2023-03-19T15:06:25.874097Z",
     "iopub.status.idle": "2023-03-19T15:06:25.898261Z",
     "shell.execute_reply": "2023-03-19T15:06:25.897361Z"
    },
    "id": "ca304dd0",
    "papermill": {
     "duration": 0.043746,
     "end_time": "2023-03-19T15:06:25.900233",
     "exception": false,
     "start_time": "2023-03-19T15:06:25.856487",
     "status": "completed"
    },
    "tags": []
   },
   "outputs": [],
   "source": [
    "class Speller(nn.Module):\n",
    "    def __init__(self, num_classes, hidden_dim, max_step=CFG.max_length, sos_token=1, eos_token=2, dropout=0.0, n_layers=2, num_heads=4):\n",
    "        super(Speller, self).__init__()\n",
    "        self.num_classes = num_classes\n",
    "        self.hidden_dim = hidden_dim\n",
    "        self.n_layers = n_layers\n",
    "        self.num_heads = num_heads\n",
    "        \n",
    "        self.max_step = max_step\n",
    "        self.eos_token = eos_token\n",
    "        self.sos_token = sos_token\n",
    "        \n",
    "        self.emb = nn.Embedding(self.num_classes, self.hidden_dim)\n",
    "        self.rnn = nn.LSTM(\n",
    "            input_size=self.hidden_dim,\n",
    "            hidden_size=self.hidden_dim,\n",
    "            num_layers=self.n_layers,\n",
    "            bidirectional = False,\n",
    "            dropout=dropout,\n",
    "            batch_first=True\n",
    "        )\n",
    "        self.init_rnn_weights()\n",
    "        self.attention = MultiHeadAttention(self.hidden_dim, self.num_heads)\n",
    "        #self.attention = Attention(dec_dim=self.hidden_dim, enc_dim=self.hidden_dim, conv_dim=1, attn_dim=self.hidden_dim)\n",
    "        self.character_distribution = nn.Linear(self.hidden_dim, num_classes)\n",
    "        self.softmax = nn.LogSoftmax(dim=-1)\n",
    "    \n",
    "    def init_rnn_weights(self, low=-0.1, high=0.1):\n",
    "        for name, param in self.rnn.named_parameters():\n",
    "            if 'weight_ih' in name:\n",
    "                torch.nn.init.uniform_(param.data, a=low, b=high)\n",
    "            elif 'weight_hh' in name:\n",
    "                torch.nn.init.uniform_(param.data, a=low, b=high)\n",
    "            elif 'bias' in name:\n",
    "                param.data.fill_(0)\n",
    "\n",
    "    def init_hidden(self, batch_size):\n",
    "        hidden = Variable(torch.zeros(self.n_layers, batch_size, self.hidden_dim))\n",
    "        cell = Variable(torch.zeros(self.n_layers, batch_size, self.hidden_dim))\n",
    "        return (hidden.to(device),cell.to(device))\n",
    "    \n",
    "    def forward_step(self,inputs, hc, listener_features):\n",
    "        decoder_output, hc = self.rnn(inputs, hc)\n",
    "        att_out, context = self.attention(decoder_output,listener_features)\n",
    "        #context = torch.sum(att_out, dim=1).unsqueeze(dim=1)\n",
    "        #concat_output = torch.cat((decoder_output,context),dim=-1)\n",
    "        logit = self.softmax(self.character_distribution(att_out))\n",
    "\n",
    "        return logit, hc, context\n",
    "    \n",
    "    def forward(self, listener_features, ground_truth=None, teacher_forcing_rate = 0.9, use_beam=False, beam_size=3):\n",
    "        if ground_truth is None:\n",
    "            teacher_forcing_rate = 0\n",
    "        teacher_forcing = True if np.random.random_sample() < teacher_forcing_rate else False\n",
    "        \n",
    "        if (ground_truth is None) and (not teacher_forcing):\n",
    "            max_step = self.max_step\n",
    "        else:\n",
    "            max_step = ground_truth.size(1)\n",
    "        \n",
    "        input_word = torch.zeros(listener_features.size(0), 1).long().to(device)\n",
    "        input_word[:,0] = self.sos_token\n",
    "        \n",
    "        init_context = torch.zeros_like(listener_features[:,0:1,:])\n",
    "        inputs = self.emb(input_word)\n",
    "        hc = self.init_hidden(input_word.size(0))\n",
    "        logits = []\n",
    "        \n",
    "        if not use_beam:\n",
    "            for step in range(max_step):\n",
    "                logit, hc, context = self.forward_step(inputs, hc, listener_features)\n",
    "                logits.append(logit.squeeze())\n",
    "                if teacher_forcing:\n",
    "                  output_word = ground_truth[:,step:step+1]\n",
    "                else:\n",
    "                  output_word = logit.topk(1)[1].squeeze(-1)\n",
    "                inputs = self.emb(output_word)\n",
    "\n",
    "            logits = torch.stack(logits, dim=1)\n",
    "            #y_hats = torch.max(logits, dim=-1)[1]\n",
    "            return logits\n",
    "        else:\n",
    "            btz = listener_features.size(0)\n",
    "            y_hats = torch.zeros(btz, max_step).long().to(device)\n",
    "            logit, hc, context = self.forward_step(inputs, hc, listener_features)\n",
    "            output_words = logit.topk(beam_size)[1].squeeze(1)\n",
    "            for bi in range(btz):\n",
    "                b_output_words = output_words[bi,:].unsqueeze(0).transpose(1,0).contiguous()\n",
    "                b_inputs = self.emb(b_output_words)\n",
    "                b_listener_features = listener_features[bi,:,:].unsqueeze(0).expand((beam_size,-1,-1)).contiguous()\n",
    "                if isinstance(hc, tuple):\n",
    "                    b_h = hc[0][:,bi,:].unsqueeze(1).expand((-1,beam_size,-1)).contiguous()\n",
    "                    b_c = hc[1][:,bi,:].unsqueeze(1).expand((-1,beam_size,-1)).contiguous()\n",
    "                    b_hc = (b_h, b_c)\n",
    "                else:\n",
    "                    b_hc = hc[:,bi,:].unsqueeze(1).expand((-1,beam_size,-1)).contiguous()\n",
    "                    \n",
    "                scores = torch.zeros(beam_size,1).to(device)\n",
    "                ids = torch.zeros(beam_size, max_step, 1).long().to(device)\n",
    "                for step in range(max_step):\n",
    "                    logit, b_hc, context = self.forward_step(b_inputs, b_hc, b_listener_features)\n",
    "                    score, id = logit.topk(1)\n",
    "                    scores += score.squeeze(1)\n",
    "                    ids[:,step,:] = id.squeeze(1)\n",
    "                    output_word = logit.topk(1)[1].squeeze(-1)\n",
    "                    b_inputs = self.emb(output_word)\n",
    "                y_hats[bi,:] = ids[scores.squeeze(1).topk(1)[1],:].squeeze(2)\n",
    "            return y_hats"
   ]
  },
  {
   "cell_type": "code",
   "execution_count": null,
   "id": "5773af85",
   "metadata": {
    "execution": {
     "iopub.execute_input": "2023-03-19T15:06:25.933919Z",
     "iopub.status.busy": "2023-03-19T15:06:25.933151Z",
     "iopub.status.idle": "2023-03-19T15:06:25.939435Z",
     "shell.execute_reply": "2023-03-19T15:06:25.938573Z"
    },
    "id": "8aff4a8b",
    "papermill": {
     "duration": 0.025165,
     "end_time": "2023-03-19T15:06:25.941357",
     "exception": false,
     "start_time": "2023-03-19T15:06:25.916192",
     "status": "completed"
    },
    "tags": []
   },
   "outputs": [],
   "source": [
    "class LAS(nn.Module):\n",
    "    def __init__(self, listener, speller):\n",
    "        super(LAS, self).__init__()\n",
    "        self.encoder = listener\n",
    "        self.decoder = speller\n",
    "        \n",
    "    def forward(self, inputs, ground_truth=None, teacher_forcing_rate=0.9, use_beam=False, beam_size=16):\n",
    "        listener_features, hidden = self.encoder(inputs)\n",
    "        logits = self.decoder(listener_features, ground_truth, \n",
    "                              teacher_forcing_rate=teacher_forcing_rate, use_beam=use_beam, beam_size=beam_size)\n",
    "        \n",
    "        return logits"
   ]
  },
  {
   "cell_type": "markdown",
   "id": "7bb0b2dd",
   "metadata": {
    "id": "e69c8377",
    "papermill": {
     "duration": 0.015729,
     "end_time": "2023-03-19T15:06:25.973764",
     "exception": false,
     "start_time": "2023-03-19T15:06:25.958035",
     "status": "completed"
    },
    "tags": []
   },
   "source": [
    "# SpecAugment\n",
    "https://arxiv.org/pdf/1904.08779.pdf"
   ]
  },
  {
   "attachments": {
    "77a3573e-9b5f-4780-a274-f5f630bf88e4.png": {
     "image/png": "[encoded data removed]"
    }
   },
   "cell_type": "markdown",
   "id": "6584a1dc",
   "metadata": {
    "papermill": {
     "duration": 0.015925,
     "end_time": "2023-03-19T15:06:26.005662",
     "exception": false,
     "start_time": "2023-03-19T15:06:25.989737",
     "status": "completed"
    },
    "tags": []
   },
   "source": [
    "![image.png](attachment:77a3573e-9b5f-4780-a274-f5f630bf88e4.png)"
   ]
  },
  {
   "cell_type": "code",
   "execution_count": null,
   "id": "071d3a55",
   "metadata": {
    "execution": {
     "iopub.execute_input": "2023-03-19T15:06:26.039254Z",
     "iopub.status.busy": "2023-03-19T15:06:26.038404Z",
     "iopub.status.idle": "2023-03-19T15:06:35.196616Z",
     "shell.execute_reply": "2023-03-19T15:06:35.195438Z"
    },
    "id": "hJng68hpu8z3",
    "outputId": "93d3f7a5-0384-4b4a-87cc-6f7218b8d85c",
    "papermill": {
     "duration": 9.177413,
     "end_time": "2023-03-19T15:06:35.198978",
     "exception": false,
     "start_time": "2023-03-19T15:06:26.021565",
     "status": "completed"
    },
    "tags": []
   },
   "outputs": [],
   "source": [
    "!pip install tensorflow_addons"
   ]
  },
  {
   "cell_type": "code",
   "execution_count": null,
   "id": "a01a590d",
   "metadata": {
    "execution": {
     "iopub.execute_input": "2023-03-19T15:06:35.234610Z",
     "iopub.status.busy": "2023-03-19T15:06:35.234273Z",
     "iopub.status.idle": "2023-03-19T15:06:39.812895Z",
     "shell.execute_reply": "2023-03-19T15:06:39.811918Z"
    },
    "id": "0d47ccde",
    "papermill": {
     "duration": 4.598922,
     "end_time": "2023-03-19T15:06:39.815336",
     "exception": false,
     "start_time": "2023-03-19T15:06:35.216414",
     "status": "completed"
    },
    "tags": []
   },
   "outputs": [],
   "source": [
    "import random\n",
    "import numpy as np\n",
    "import tensorflow as tf\n",
    "from tensorflow_addons.image import sparse_image_warp\n",
    "# reference: https://github.com/pyyush/SpecAugment\n",
    "class SpecAugment():\n",
    "    def __init__(self, policy, zero_mean_normalized=True):\n",
    "        self.policy = policy\n",
    "        self.zero_mean_normalized = zero_mean_normalized\n",
    "        \n",
    "        # Policy Specific Parameters\n",
    "        if self.policy == 'LB':\n",
    "            self.W, self.F, self.m_F, self.T, self.p, self.m_T = 80, 27, 1, 100, 1.0, 1\n",
    "        elif self.policy == 'LD':\n",
    "            self.W, self.F, self.m_F, self.T, self.p, self.m_T = 80, 27, 2, 100, 1.0, 2\n",
    "        elif self.policy == 'SM':\n",
    "            self.W, self.F, self.m_F, self.T, self.p, self.m_T = 40, 15, 2, 70, 0.2, 2\n",
    "        elif self.policy == 'SS':\n",
    "            self.W, self.F, self.m_F, self.T, self.p, self.m_T = 40, 27, 2, 70, 0.2, 2\n",
    "    def timeWarping(self, feature):\n",
    "        # Reshape to [Batch_size, time, freq, 1] for sparse_image_warp func.\n",
    "        feature = np.reshape(feature, (-1, feature.shape[0], feature.shape[1], 1))\n",
    "        \n",
    "        v, tau = feature.shape[1], feature.shape[2]\n",
    "        \n",
    "        horiz_line_thru_ctr = feature[0][v//2]\n",
    "    \n",
    "        random_pt = horiz_line_thru_ctr[random.randrange(self.W, tau - self.W)] # random point along the horizontal/time axis\n",
    "        w = np.random.uniform((-self.W), self.W) # distance\n",
    "        \n",
    "        # Source Points\n",
    "        src_points = [[[v//2, random_pt[0]]]]\n",
    "        \n",
    "        # Destination Points\n",
    "        dest_points = [[[v//2, random_pt[0] + w]]]\n",
    "        \n",
    "        feature, _ = sparse_image_warp(feature, src_points, dest_points, num_boundary_points=2)\n",
    "    \n",
    "        return feature\n",
    "    \n",
    "    def timeMasking(self, feature):\n",
    "        tau = feature.shape[2] # time frames\n",
    "        \n",
    "        # apply m_T time masks to the mel spectrogram\n",
    "        for i in range(self.m_T):\n",
    "            t = int(np.random.uniform(0, self.T)) # [0, T)\n",
    "            upper = tau if t>tau else t#make limitation\n",
    "            t0 = random.randint(0, tau - upper) # [0, tau - t)\n",
    "            feature[:, :, t0:t0 + t] = 0\n",
    "            \n",
    "        return feature\n",
    "\n",
    "    def freqMasking(self, feature):\n",
    "        size = feature.shape[1]\n",
    "        \n",
    "        for i in range(self.m_F):\n",
    "            f = int(np.random.uniform(0, self.F)) # [0, F)\n",
    "            f0 = random.randint(0, size - f) # [0, v - f)\n",
    "            feature[:, f0:f0 + f] = 0\n",
    "            \n",
    "        return feature"
   ]
  },
  {
   "cell_type": "code",
   "execution_count": null,
   "id": "67c6deb1",
   "metadata": {
    "execution": {
     "iopub.execute_input": "2023-03-19T15:06:39.850399Z",
     "iopub.status.busy": "2023-03-19T15:06:39.850063Z",
     "iopub.status.idle": "2023-03-19T15:06:39.865879Z",
     "shell.execute_reply": "2023-03-19T15:06:39.864989Z"
    },
    "id": "f21ce91f",
    "papermill": {
     "duration": 0.035784,
     "end_time": "2023-03-19T15:06:39.867915",
     "exception": false,
     "start_time": "2023-03-19T15:06:39.832131",
     "status": "completed"
    },
    "tags": []
   },
   "outputs": [],
   "source": [
    "from torch.utils.data import Dataset, DataLoader, random_split\n",
    "import torchaudio\n",
    "from torchaudio import transforms, functional\n",
    "import torch.nn.functional as F\n",
    "import random\n",
    "\n",
    "class SpeechDataset(Dataset):\n",
    "\n",
    "    def __init__(self, char2id, split=CFG.dataset_list[4], max_len=0, augmentation=False, pkwargs=None):\n",
    "        \n",
    "        super(SpeechDataset, self).__init__()\n",
    "        self.dataset = torchaudio.datasets.LIBRISPEECH(\n",
    "            root=os.path.expanduser(\"~/.cache\"),\n",
    "            url=split,\n",
    "            download=True,\n",
    "        )\n",
    "        self.char2id = char2id\n",
    "        self.max_len = max_len\n",
    "        self.augmentation = augmentation\n",
    "        self.specAugment = SpecAugment('LB')\n",
    "        self.pkwargs = pkwargs\n",
    "        self.current = None\n",
    "        \n",
    "        self.mel_converter = torchaudio.transforms.MelSpectrogram(sample_rate=CFG.sr, n_fft=CFG.n_fft, hop_length=CFG.hop_length, n_mels=CFG.n_mels)\n",
    "        self.db_converter = torchaudio.transforms.AmplitudeToDB()\n",
    "        \n",
    "    def __len__(self):\n",
    "        return len(self.dataset)\n",
    "    \n",
    "    def __getitem__(self, idx):\n",
    "        if torch.is_tensor(idx):\n",
    "            idx = idx.tolist()\n",
    "\n",
    "        audio, sample_rate, label, _, _, _ = self.dataset[idx]\n",
    "        x = self.db_converter(self.mel_converter(audio))\n",
    "\n",
    "        if self.augmentation:\n",
    "            rand = random.randint(1, 10)\n",
    "            if rand > 3:\n",
    "                x = self.specAugment.freqMasking(x)\n",
    "                if rand < 7:\n",
    "                    x = self.specAugment.timeMasking(x)\n",
    "            else:\n",
    "                x = self.specAugment.timeMasking(x)\n",
    "                \n",
    "        self.current = {\"input\":x, \"label\":label}\n",
    "        \n",
    "        x = x[0,:,:].squeeze(1).t()\n",
    "        if self.max_len:\n",
    "            x = np.pad(x, ((0, 0), (0, self.max_len - x.shape[1])), \"constant\")\n",
    "            \n",
    "        y = []\n",
    "        y.append(SOS_TOKEN)\n",
    "        for char in label:\n",
    "            try:\n",
    "                y.append(self.char2id[char])\n",
    "            except:\n",
    "                y.append(self.char2id['<unk>'])\n",
    "        y.append(EOS_TOKEN)\n",
    "        y = np.array(y)\n",
    "        return (x, y)\n",
    "    \n",
    "    def checkLogMelSpec(self, itemIndex):\n",
    "        self.__getitem__(itemIndex)\n",
    "        print(self.current['input'].shape)\n",
    "        self.plot_spectrogram(self.current['input'][0], title=\"LogMelSpectrogram\", ylabel=\"mel freq\")\n",
    "        print(self.current['label'])\n",
    "        \n",
    "    def plot_spectrogram(self, specgram, title=None, ylabel=\"freq_bin\"):\n",
    "        fig, axs = plt.subplots(1, 1, figsize=(10, 4))\n",
    "        axs.set_title(title or \"Spectrogram\")\n",
    "        axs.set_ylabel(ylabel)\n",
    "        axs.set_xlabel(\"frame\")\n",
    "        im = axs.imshow(librosa.power_to_db(specgram), origin=\"lower\", aspect=\"auto\")\n",
    "        fig.colorbar(im, ax=axs)\n",
    "        plt.show(block=False)"
   ]
  },
  {
   "cell_type": "code",
   "execution_count": null,
   "id": "a6386ff6",
   "metadata": {
    "execution": {
     "iopub.execute_input": "2023-03-19T15:06:39.902159Z",
     "iopub.status.busy": "2023-03-19T15:06:39.901870Z",
     "iopub.status.idle": "2023-03-19T15:06:39.910687Z",
     "shell.execute_reply": "2023-03-19T15:06:39.909805Z"
    },
    "id": "f71a95d6",
    "papermill": {
     "duration": 0.027899,
     "end_time": "2023-03-19T15:06:39.912604",
     "exception": false,
     "start_time": "2023-03-19T15:06:39.884705",
     "status": "completed"
    },
    "tags": []
   },
   "outputs": [],
   "source": [
    "def _collate_fn(batch):\n",
    "    \"\"\" functions that pad to the maximum sequence length \"\"\"\n",
    "    def seq_length_(p):\n",
    "        return len(p[0])\n",
    "\n",
    "    def target_length_(p):\n",
    "        return len(p[1])\n",
    "\n",
    "    seq_lengths = [len(s[0]) for s in batch]\n",
    "    target_lengths = [len(s[1]) for s in batch]\n",
    "\n",
    "    max_seq_sample = max(batch, key=seq_length_)[0]\n",
    "    max_target_sample = max(batch, key=target_length_)[1]\n",
    "\n",
    "    max_seq_size = max_seq_sample.size(0)\n",
    "    max_target_size = len(max_target_sample)\n",
    "\n",
    "    feat_size = max_seq_sample.size(1)\n",
    "    batch_size = len(batch)\n",
    "\n",
    "    seqs = torch.zeros(batch_size, max_seq_size, feat_size)\n",
    "\n",
    "    targets = torch.zeros(batch_size, max_target_size).to(torch.long)\n",
    "    targets.fill_(0)\n",
    "\n",
    "    for x in range(batch_size):\n",
    "        sample = batch[x]\n",
    "        tensor = sample[0]\n",
    "        target = sample[1]\n",
    "        seq_length = tensor.size(0)\n",
    "        seqs[x].narrow(0, 0, seq_length).copy_(tensor)\n",
    "        targets[x].narrow(0, 0, len(target)).copy_(torch.LongTensor(target))\n",
    "    return seqs, targets"
   ]
  },
  {
   "cell_type": "code",
   "execution_count": null,
   "id": "96038373",
   "metadata": {
    "execution": {
     "iopub.execute_input": "2023-03-19T15:06:39.953529Z",
     "iopub.status.busy": "2023-03-19T15:06:39.952950Z",
     "iopub.status.idle": "2023-03-19T15:08:58.964522Z",
     "shell.execute_reply": "2023-03-19T15:08:58.963453Z"
    },
    "id": "62270995",
    "papermill": {
     "duration": 139.0316,
     "end_time": "2023-03-19T15:08:58.967227",
     "exception": false,
     "start_time": "2023-03-19T15:06:39.935627",
     "status": "completed"
    },
    "tags": []
   },
   "outputs": [],
   "source": [
    "train_dataset = SpeechDataset(char2id, split=CFG.dataset_list[4], max_len=0)\n",
    "generated_dataset = SpeechDataset(char2id, split=CFG.dataset_list[0], augmentation=True, max_len=0)\n",
    "test_dataset = SpeechDataset(char2id, split=\"test-clean\", max_len=0)\n",
    "augmented_dataset = torch.utils.data.ConcatDataset([train_dataset, generated_dataset])"
   ]
  },
  {
   "cell_type": "code",
   "execution_count": null,
   "id": "f97e5ab6",
   "metadata": {
    "execution": {
     "iopub.execute_input": "2023-03-19T15:08:59.003971Z",
     "iopub.status.busy": "2023-03-19T15:08:59.003637Z",
     "iopub.status.idle": "2023-03-19T15:08:59.424043Z",
     "shell.execute_reply": "2023-03-19T15:08:59.422706Z"
    },
    "id": "5891a333",
    "outputId": "074819b7-541a-427d-a975-6d25fce9a094",
    "papermill": {
     "duration": 0.440974,
     "end_time": "2023-03-19T15:08:59.426363",
     "exception": false,
     "start_time": "2023-03-19T15:08:58.985389",
     "status": "completed"
    },
    "tags": []
   },
   "outputs": [],
   "source": [
    "generated_dataset.checkLogMelSpec(10)"
   ]
  },
  {
   "cell_type": "code",
   "execution_count": null,
   "id": "67f1d328",
   "metadata": {
    "execution": {
     "iopub.execute_input": "2023-03-19T15:08:59.468364Z",
     "iopub.status.busy": "2023-03-19T15:08:59.468044Z",
     "iopub.status.idle": "2023-03-19T15:08:59.473470Z",
     "shell.execute_reply": "2023-03-19T15:08:59.472451Z"
    },
    "id": "c4ffaf9f",
    "papermill": {
     "duration": 0.027938,
     "end_time": "2023-03-19T15:08:59.475717",
     "exception": false,
     "start_time": "2023-03-19T15:08:59.447779",
     "status": "completed"
    },
    "tags": []
   },
   "outputs": [],
   "source": [
    "train_dataloader = DataLoader(augmented_dataset, batch_size=CFG.batch_size, shuffle=True, pin_memory=True,\n",
    "                              collate_fn=_collate_fn, num_workers=CFG.worker)\n",
    "test_dataloader = DataLoader(test_dataset, batch_size=CFG.batch_size, shuffle=True, pin_memory=True,\n",
    "                             collate_fn=_collate_fn, num_workers=CFG.worker)"
   ]
  },
  {
   "cell_type": "code",
   "execution_count": null,
   "id": "80b18ec4",
   "metadata": {
    "execution": {
     "iopub.execute_input": "2023-03-19T15:08:59.517611Z",
     "iopub.status.busy": "2023-03-19T15:08:59.517325Z",
     "iopub.status.idle": "2023-03-19T15:08:59.524613Z",
     "shell.execute_reply": "2023-03-19T15:08:59.523443Z"
    },
    "id": "53783a0d",
    "papermill": {
     "duration": 0.03078,
     "end_time": "2023-03-19T15:08:59.526968",
     "exception": false,
     "start_time": "2023-03-19T15:08:59.496188",
     "status": "completed"
    },
    "tags": []
   },
   "outputs": [],
   "source": [
    "def label_to_string(labels, id2char):\n",
    "    \"\"\"\n",
    "    Converts label to string (number => Hangeul)\n",
    "\n",
    "    Args:\n",
    "        labels (list): number label\n",
    "        id2char (dict): id2char[id] = ch\n",
    "        eos_id (int): identification of <end of sequence>\n",
    "\n",
    "    Returns: sentence\n",
    "        - **sentence** (str or list): Hangeul representation of labels\n",
    "    \"\"\"\n",
    "    sos_id = char2id['<sos>']\n",
    "    eos_id = char2id['<eos>']\n",
    "    if len(labels.shape) == 1:\n",
    "        sentence = str()\n",
    "        for label in labels:\n",
    "            if label.item() == sos_id:\n",
    "                continue\n",
    "            if label.item() == eos_id:\n",
    "                break\n",
    "            sentence += id2char[label.item()]\n",
    "        return sentence\n",
    "\n",
    "    elif len(labels.shape) == 2:\n",
    "        sentences = list()\n",
    "        for batch in labels:\n",
    "            sentence = str()\n",
    "            for label in batch:\n",
    "                if label.item() == sos_id:\n",
    "                    continue\n",
    "                if label.item() == eos_id:\n",
    "                    break\n",
    "                sentence += id2char[label.item()]\n",
    "            sentences.append(sentence)\n",
    "        return sentences"
   ]
  },
  {
   "cell_type": "code",
   "execution_count": null,
   "id": "15f3d45f",
   "metadata": {
    "execution": {
     "iopub.execute_input": "2023-03-19T15:08:59.565663Z",
     "iopub.status.busy": "2023-03-19T15:08:59.565394Z",
     "iopub.status.idle": "2023-03-19T15:09:05.665911Z",
     "shell.execute_reply": "2023-03-19T15:09:05.664911Z"
    },
    "id": "64be1a0f",
    "papermill": {
     "duration": 6.122888,
     "end_time": "2023-03-19T15:09:05.668377",
     "exception": false,
     "start_time": "2023-03-19T15:08:59.545489",
     "status": "completed"
    },
    "tags": []
   },
   "outputs": [],
   "source": [
    "import torch.optim as optim\n",
    "listener = Listener(CFG.num_channels, 256)\n",
    "speller = Speller(len(id2char), 512, num_heads=4, dropout=0.3)\n",
    "model = LAS(listener, speller).to(device)\n",
    "\n",
    "optimizer = optim.Adam(model.parameters(), lr=3e-4)\n",
    "criterion = nn.CrossEntropyLoss(label_smoothing=0.1, ignore_index = PAD_TOKEN).to(device)"
   ]
  },
  {
   "cell_type": "markdown",
   "id": "5bd73ec0",
   "metadata": {
    "id": "b4c8668e",
    "papermill": {
     "duration": 0.018564,
     "end_time": "2023-03-19T15:09:05.706340",
     "exception": false,
     "start_time": "2023-03-19T15:09:05.687776",
     "status": "completed"
    },
    "tags": []
   },
   "source": [
    "# Check Modules works well"
   ]
  },
  {
   "cell_type": "code",
   "execution_count": null,
   "id": "60acbd24",
   "metadata": {
    "execution": {
     "iopub.execute_input": "2023-03-19T15:09:05.745208Z",
     "iopub.status.busy": "2023-03-19T15:09:05.743499Z",
     "iopub.status.idle": "2023-03-19T15:09:06.034710Z",
     "shell.execute_reply": "2023-03-19T15:09:06.033474Z"
    },
    "id": "12a395ee",
    "papermill": {
     "duration": 0.313457,
     "end_time": "2023-03-19T15:09:06.037682",
     "exception": false,
     "start_time": "2023-03-19T15:09:05.724225",
     "status": "completed"
    },
    "tags": []
   },
   "outputs": [],
   "source": [
    "inputs, classes = next(iter(train_dataloader))"
   ]
  },
  {
   "cell_type": "code",
   "execution_count": null,
   "id": "ad907c93",
   "metadata": {
    "execution": {
     "iopub.execute_input": "2023-03-19T15:09:06.077231Z",
     "iopub.status.busy": "2023-03-19T15:09:06.076412Z",
     "iopub.status.idle": "2023-03-19T15:09:06.082970Z",
     "shell.execute_reply": "2023-03-19T15:09:06.081555Z"
    },
    "id": "df5704d8",
    "outputId": "297406a3-0159-4c8e-ddcb-5cd4463fdce7",
    "papermill": {
     "duration": 0.028613,
     "end_time": "2023-03-19T15:09:06.085698",
     "exception": false,
     "start_time": "2023-03-19T15:09:06.057085",
     "status": "completed"
    },
    "tags": []
   },
   "outputs": [],
   "source": [
    "print(inputs.shape)"
   ]
  },
  {
   "cell_type": "code",
   "execution_count": null,
   "id": "61b76a7d",
   "metadata": {
    "execution": {
     "iopub.execute_input": "2023-03-19T15:09:06.124578Z",
     "iopub.status.busy": "2023-03-19T15:09:06.124001Z",
     "iopub.status.idle": "2023-03-19T15:09:06.328167Z",
     "shell.execute_reply": "2023-03-19T15:09:06.326845Z"
    },
    "id": "31c35599",
    "outputId": "4e190e16-bbc7-4311-c733-8b3fa8a7e8f6",
    "papermill": {
     "duration": 0.225883,
     "end_time": "2023-03-19T15:09:06.330878",
     "exception": false,
     "start_time": "2023-03-19T15:09:06.104995",
     "status": "completed"
    },
    "tags": []
   },
   "outputs": [],
   "source": [
    "feat, hid = listener(inputs.to(device))\n",
    "print(feat.shape)\n",
    "print(hid[0].shape)\n",
    "print(hid[1].shape)"
   ]
  },
  {
   "cell_type": "code",
   "execution_count": null,
   "id": "65b5a6b7",
   "metadata": {
    "execution": {
     "iopub.execute_input": "2023-03-19T15:09:06.370926Z",
     "iopub.status.busy": "2023-03-19T15:09:06.369981Z",
     "iopub.status.idle": "2023-03-19T15:09:07.483181Z",
     "shell.execute_reply": "2023-03-19T15:09:07.482233Z"
    },
    "id": "6da6ea6d",
    "outputId": "c2c83e4b-99c1-415d-8582-d44d141957bf",
    "papermill": {
     "duration": 1.134601,
     "end_time": "2023-03-19T15:09:07.485238",
     "exception": false,
     "start_time": "2023-03-19T15:09:06.350637",
     "status": "completed"
    },
    "tags": []
   },
   "outputs": [],
   "source": [
    "logi = speller(feat, classes.to(device),teacher_forcing_rate=0.99, use_beam=False, beam_size=3)\n",
    "print(logi.shape)"
   ]
  },
  {
   "cell_type": "code",
   "execution_count": null,
   "id": "69ae4043",
   "metadata": {
    "execution": {
     "iopub.execute_input": "2023-03-19T15:09:07.524379Z",
     "iopub.status.busy": "2023-03-19T15:09:07.524021Z",
     "iopub.status.idle": "2023-03-19T15:09:07.927855Z",
     "shell.execute_reply": "2023-03-19T15:09:07.926896Z"
    },
    "id": "e4e0ed40",
    "outputId": "12c47a4b-c8cb-4050-fbc7-e8e134401f26",
    "papermill": {
     "duration": 0.425639,
     "end_time": "2023-03-19T15:09:07.930237",
     "exception": false,
     "start_time": "2023-03-19T15:09:07.504598",
     "status": "completed"
    },
    "tags": []
   },
   "outputs": [],
   "source": [
    "result = model(inputs.to(device), ground_truth=classes.to(device), teacher_forcing_rate=0.99)\n",
    "result"
   ]
  },
  {
   "cell_type": "code",
   "execution_count": null,
   "id": "a2a31007",
   "metadata": {
    "execution": {
     "iopub.execute_input": "2023-03-19T15:09:07.990313Z",
     "iopub.status.busy": "2023-03-19T15:09:07.989932Z",
     "iopub.status.idle": "2023-03-19T15:09:07.995642Z",
     "shell.execute_reply": "2023-03-19T15:09:07.994699Z"
    },
    "id": "6348bcff",
    "papermill": {
     "duration": 0.038825,
     "end_time": "2023-03-19T15:09:07.997876",
     "exception": false,
     "start_time": "2023-03-19T15:09:07.959051",
     "status": "completed"
    },
    "tags": []
   },
   "outputs": [],
   "source": [
    "if result.dim() == 2:\n",
    "    result = result.T\n",
    "    result = result.unsqueeze(0)"
   ]
  },
  {
   "cell_type": "code",
   "execution_count": null,
   "id": "65e14b18",
   "metadata": {
    "execution": {
     "iopub.execute_input": "2023-03-19T15:09:08.063053Z",
     "iopub.status.busy": "2023-03-19T15:09:08.062502Z",
     "iopub.status.idle": "2023-03-19T15:09:08.076790Z",
     "shell.execute_reply": "2023-03-19T15:09:08.075946Z"
    },
    "id": "f0e46424",
    "outputId": "3d2851cd-f0a1-4f37-adeb-6d93526aa36a",
    "papermill": {
     "duration": 0.048683,
     "end_time": "2023-03-19T15:09:08.078977",
     "exception": false,
     "start_time": "2023-03-19T15:09:08.030294",
     "status": "completed"
    },
    "tags": []
   },
   "outputs": [],
   "source": [
    "logi.view([logi.size(0), -1, logi.size(-2)])[0][0]"
   ]
  },
  {
   "cell_type": "code",
   "execution_count": null,
   "id": "f6e25c79",
   "metadata": {
    "execution": {
     "iopub.execute_input": "2023-03-19T15:09:08.134683Z",
     "iopub.status.busy": "2023-03-19T15:09:08.134064Z",
     "iopub.status.idle": "2023-03-19T15:09:08.140635Z",
     "shell.execute_reply": "2023-03-19T15:09:08.139133Z"
    },
    "id": "a33e7dd7",
    "outputId": "93b86de4-4fd8-4597-875a-5e930f987669",
    "papermill": {
     "duration": 0.037418,
     "end_time": "2023-03-19T15:09:08.143504",
     "exception": false,
     "start_time": "2023-03-19T15:09:08.106086",
     "status": "completed"
    },
    "tags": []
   },
   "outputs": [],
   "source": [
    "print(classes.shape)\n",
    "print(classes)"
   ]
  },
  {
   "cell_type": "code",
   "execution_count": null,
   "id": "4af8e455",
   "metadata": {
    "execution": {
     "iopub.execute_input": "2023-03-19T15:09:08.199096Z",
     "iopub.status.busy": "2023-03-19T15:09:08.198832Z",
     "iopub.status.idle": "2023-03-19T15:09:08.204483Z",
     "shell.execute_reply": "2023-03-19T15:09:08.203578Z"
    },
    "id": "7d851f7f",
    "outputId": "7d02532f-b0b6-48ef-ee47-38668f0c7fdd",
    "papermill": {
     "duration": 0.036332,
     "end_time": "2023-03-19T15:09:08.207099",
     "exception": false,
     "start_time": "2023-03-19T15:09:08.170767",
     "status": "completed"
    },
    "tags": []
   },
   "outputs": [],
   "source": [
    "print(logi.view(-1, logi.size(-1)).shape)"
   ]
  },
  {
   "cell_type": "code",
   "execution_count": null,
   "id": "c00794f7",
   "metadata": {
    "execution": {
     "iopub.execute_input": "2023-03-19T15:09:08.262123Z",
     "iopub.status.busy": "2023-03-19T15:09:08.261842Z",
     "iopub.status.idle": "2023-03-19T15:09:08.267154Z",
     "shell.execute_reply": "2023-03-19T15:09:08.266170Z"
    },
    "id": "b7f747c8",
    "outputId": "53126b2a-c982-4561-8cfa-a4c08367a4d3",
    "papermill": {
     "duration": 0.039732,
     "end_time": "2023-03-19T15:09:08.273903",
     "exception": false,
     "start_time": "2023-03-19T15:09:08.234171",
     "status": "completed"
    },
    "tags": []
   },
   "outputs": [],
   "source": [
    "print(classes.view(-1).shape)"
   ]
  },
  {
   "cell_type": "code",
   "execution_count": null,
   "id": "4e42de18",
   "metadata": {
    "execution": {
     "iopub.execute_input": "2023-03-19T15:09:08.335354Z",
     "iopub.status.busy": "2023-03-19T15:09:08.334900Z",
     "iopub.status.idle": "2023-03-19T15:09:08.358782Z",
     "shell.execute_reply": "2023-03-19T15:09:08.357940Z"
    },
    "id": "2539e18c",
    "outputId": "81ff2a2d-9413-4500-fbb2-15ad6778ac3e",
    "papermill": {
     "duration": 0.055974,
     "end_time": "2023-03-19T15:09:08.361631",
     "exception": false,
     "start_time": "2023-03-19T15:09:08.305657",
     "status": "completed"
    },
    "tags": []
   },
   "outputs": [],
   "source": [
    "print(logi.view(-1, logi.size(-1)).shape)\n",
    "print(classes.shape)\n",
    "loss = criterion(logi.view(-1, logi.size(-1)), classes.view(-1).to(device))\n",
    "loss"
   ]
  },
  {
   "cell_type": "markdown",
   "id": "7ffac0b3",
   "metadata": {
    "id": "cc7bd82b",
    "papermill": {
     "duration": 0.022714,
     "end_time": "2023-03-19T15:09:08.418792",
     "exception": false,
     "start_time": "2023-03-19T15:09:08.396078",
     "status": "completed"
    },
    "tags": []
   },
   "source": [
    "# Train & Evaluate"
   ]
  },
  {
   "cell_type": "code",
   "execution_count": null,
   "id": "e83aee0f",
   "metadata": {
    "execution": {
     "iopub.execute_input": "2023-03-19T15:09:08.458356Z",
     "iopub.status.busy": "2023-03-19T15:09:08.458021Z",
     "iopub.status.idle": "2023-03-19T15:09:08.464586Z",
     "shell.execute_reply": "2023-03-19T15:09:08.463574Z"
    },
    "id": "e027f71f",
    "papermill": {
     "duration": 0.028678,
     "end_time": "2023-03-19T15:09:08.466591",
     "exception": false,
     "start_time": "2023-03-19T15:09:08.437913",
     "status": "completed"
    },
    "tags": []
   },
   "outputs": [],
   "source": [
    "def last_checkpoint(path, epoch, model, optimizer, loss):\n",
    "    torch.save({\n",
    "        'epoch': epoch,\n",
    "        'model_state_dict': model.state_dict(),\n",
    "        'optimizer_state_dict': optimizer.state_dict(),\n",
    "        'loss': loss,\n",
    "    }, path+'/last_checkpoint.pt')\n",
    "    \n",
    "def score(pred, y):\n",
    "    cer = 0.\n",
    "    wer = 0.\n",
    "    pred_sts = label_to_string(pred, id2char)\n",
    "    gold_sts = label_to_string(y, id2char)\n",
    "    for i, (res,gt) in enumerate(zip(pred_sts,gold_sts)):\n",
    "        cer += torchmetrics.functional.char_error_rate(res,gt)\n",
    "        wer += torchmetrics.functional.word_error_rate(res,gt)\n",
    "    return cer, wer"
   ]
  },
  {
   "cell_type": "code",
   "execution_count": null,
   "id": "12ed4e70",
   "metadata": {
    "execution": {
     "iopub.execute_input": "2023-03-19T15:09:08.506675Z",
     "iopub.status.busy": "2023-03-19T15:09:08.505783Z",
     "iopub.status.idle": "2023-03-19T15:09:08.511505Z",
     "shell.execute_reply": "2023-03-19T15:09:08.510607Z"
    },
    "id": "3eedace8",
    "papermill": {
     "duration": 0.027898,
     "end_time": "2023-03-19T15:09:08.513445",
     "exception": false,
     "start_time": "2023-03-19T15:09:08.485547",
     "status": "completed"
    },
    "tags": []
   },
   "outputs": [],
   "source": [
    "def scheduler_sampling(epoch, e_min=1, ratio_s=0.9, ratio_e=0, n_epoch_ramp=10):\n",
    "    if epoch>e_min:\n",
    "        epoch -= e_min\n",
    "        teacher_forcing_ratio = max(ratio_s - (ratio_s-ratio_e)*epoch/n_epoch_ramp, ratio_e)\n",
    "    else:\n",
    "        teacher_forcing_ratio = 0.9\n",
    "    return teacher_forcing_ratio"
   ]
  },
  {
   "cell_type": "code",
   "execution_count": null,
   "id": "b42bd855",
   "metadata": {
    "execution": {
     "iopub.execute_input": "2023-03-19T15:09:08.553093Z",
     "iopub.status.busy": "2023-03-19T15:09:08.552484Z",
     "iopub.status.idle": "2023-03-19T15:09:08.556884Z",
     "shell.execute_reply": "2023-03-19T15:09:08.556000Z"
    },
    "id": "c7cb1824",
    "papermill": {
     "duration": 0.026074,
     "end_time": "2023-03-19T15:09:08.558855",
     "exception": false,
     "start_time": "2023-03-19T15:09:08.532781",
     "status": "completed"
    },
    "tags": []
   },
   "outputs": [],
   "source": [
    "def set_lr(optimizer, lr):\n",
    "        for g in optimizer.param_groups:\n",
    "            g['lr'] = lr"
   ]
  },
  {
   "cell_type": "code",
   "execution_count": null,
   "id": "bb5b7f91",
   "metadata": {
    "_kg_hide-output": true,
    "execution": {
     "iopub.execute_input": "2023-03-19T15:09:08.597770Z",
     "iopub.status.busy": "2023-03-19T15:09:08.597339Z",
     "iopub.status.idle": "2023-03-19T18:31:52.276654Z",
     "shell.execute_reply": "2023-03-19T18:31:52.275405Z"
    },
    "id": "cc5dc97a",
    "outputId": "866811d7-dc9e-44a7-d366-202328fb813f",
    "papermill": {
     "duration": 12163.702336,
     "end_time": "2023-03-19T18:31:52.279667",
     "exception": false,
     "start_time": "2023-03-19T15:09:08.577331",
     "status": "completed"
    },
    "tags": []
   },
   "outputs": [],
   "source": [
    "from torch.optim.lr_scheduler import ReduceLROnPlateau\n",
    "from tqdm import tqdm\n",
    "#scheduler = ReduceLROnPlateau(optimizer, 'min')\n",
    "\n",
    "epochs = 2\n",
    "checkpoint = 1\n",
    "print_step = 200\n",
    "save_epoch = 1\n",
    "checkpoint_path = './'\n",
    "\n",
    "loss_history =[]\n",
    "for epoch in range(epochs):\n",
    "    total_loss = 0.\n",
    "    num_samples = 0\n",
    "    cer = 0.\n",
    "    wer = 0.\n",
    "    step= 0\n",
    "    if epoch==5:\n",
    "        set_lr(optimizer, 1e-5)\n",
    "    total_step = len(train_dataloader)\n",
    "    for batch in train_dataloader:\n",
    "        model.train()\n",
    "        optimizer.zero_grad()\n",
    "\n",
    "        x, y = batch\n",
    "        x = x.to(device)\n",
    "        y = y.to(device)\n",
    "        batch_size = x.size(0)\n",
    "        \n",
    "        target = y[:, :].contiguous().to(device)\n",
    "        teacher_forcing_rate = scheduler_sampling(epoch)\n",
    "        \n",
    "        logits = model(x, ground_truth=y, teacher_forcing_rate=teacher_forcing_rate)\n",
    "        \n",
    "        if logits.dim() == 2:\n",
    "            logits = logits.T\n",
    "            logits = logits.unsqueeze(0)\n",
    "            \n",
    "        y_hats = torch.max(logits, dim=-1)[1]\n",
    "        loss = criterion(logits.view(-1, logits.size(-1)), target.view(-1))\n",
    "\n",
    "        total_loss += loss.item()\n",
    "        num_samples += batch_size\n",
    "\n",
    "        loss.backward()\n",
    "        loss_history.append(loss.item())\n",
    "        \n",
    "        torch.nn.utils.clip_grad_norm_(model.parameters(), max_norm=400)\n",
    "        optimizer.step()\n",
    "        \n",
    "        cer_, wer_ = score(y_hats.long(), target)\n",
    "        cer += cer_\n",
    "        wer += wer_\n",
    "        if step%print_step==0:\n",
    "            print('timestep: {:4d}/{:4d}, loss: {:.4f}, cer: {:.2f}, wer: {:.2f}, tf_rate: {:.2f}'.format(\n",
    "                step, total_step, total_loss/num_samples, cer/num_samples, wer/num_samples, teacher_forcing_rate))\n",
    "            with open('aihub-4.log', 'at') as f:\n",
    "                f.write('timestep: {:4d}/{:4d}, loss: {:.4f}, cer: {:.2f}, wer: {:.2f}, tf_rate: {:.2f}\\n'.format(\n",
    "                step, total_step, total_loss/num_samples, cer/num_samples, wer/num_samples, teacher_forcing_rate))\n",
    "        step += 1\n",
    "        \n",
    "    total_loss /= num_samples\n",
    "    cer /= num_samples\n",
    "    wer /= num_samples\n",
    "    print('Epoch %d (Training) Total Loss %0.4f CER %0.4f WER %0.4f' % (epoch, total_loss, cer, wer))\n",
    "    with open('las.log', 'at') as f:\n",
    "        f.write('Epoch %d (Training) Total Loss %0.4f CER %0.4f WER %0.4f\\n' % (epoch, total_loss, cer, wer))\n",
    "\n",
    "    total_loss = 0.\n",
    "    num_samples = 0\n",
    "    cer = 0.\n",
    "    wer = 0.\n",
    "    with torch.no_grad():\n",
    "        model.eval()\n",
    "        for batch in tqdm(test_dataloader):\n",
    "            x, y = batch\n",
    "\n",
    "            batch_size = x.size(0)\n",
    "            \n",
    "            x = x.to(device)\n",
    "            y = y.to(device)\n",
    "            target = y[:, :].contiguous().to(device)\n",
    "            \n",
    "            logits = model(x, ground_truth=None, teacher_forcing_rate=0.0)\n",
    "            if logits.dim() == 2:\n",
    "                logits = logits.T\n",
    "                logits = logits.unsqueeze(0)\n",
    "            y_hats = torch.max(logits, dim=-1)[1]\n",
    "            \n",
    "            logits = logits[:,:target.size(1),:].contiguous() # cut over length to calculate loss\n",
    "            target = target[:,:logits.size(1)].contiguous()\n",
    "\n",
    "            loss = criterion(logits.view(-1, logits.size(-1)), target.view(-1))\n",
    "\n",
    "            total_loss += loss.item()\n",
    "\n",
    "            cer_, wer_ = score(y_hats.long(), target)\n",
    "            cer += cer_\n",
    "            wer += wer_\n",
    "            num_samples += batch_size\n",
    "\n",
    "    val_loss = total_loss/num_samples\n",
    "    \n",
    "    #scheduler.step(val_loss)\n",
    "    val_loss = total_loss/num_samples\n",
    "    cer /= num_samples\n",
    "    wer /= num_samples\n",
    "    #scheduler.step(val_loss)\n",
    "    print('Epoch %d (Evaluate) Total Loss %0.4f CER %0.4f WER %0.4f' % (epoch, val_loss, cer, wer))\n",
    "    with open('las.log', 'at') as f:\n",
    "        f.write('Epoch %d (Evaluate) Total Loss %0.4f CER %0.4f WER %0.4f\\n' % (epoch, val_loss, cer, wer))\n",
    "    last_checkpoint(checkpoint_path+'/', epoch, model, optimizer, loss)\n",
    "    if epoch%save_epoch==0:\n",
    "        torch.save(model, \"{}/epoch{}-cer{:.2f}-wer{:.2f}.pt\".format(checkpoint_path, epoch, cer, wer))"
   ]
  },
  {
   "cell_type": "markdown",
   "id": "e55d7ab4",
   "metadata": {
    "id": "11912e67",
    "papermill": {
     "duration": 0.090741,
     "end_time": "2023-03-19T18:31:52.463827",
     "exception": false,
     "start_time": "2023-03-19T18:31:52.373086",
     "status": "completed"
    },
    "tags": []
   },
   "source": [
    "# Test model performance\n",
    "## Please, pay attention with \"model(input_data.cuda(), ground_truth=ans_data, teacher_forcing_rate=0.5)\"\n",
    "## Cause of long trainging time, i just train with few epochs in this notebook. So I need to few teacher forcing for check performance. thanks!"
   ]
  },
  {
   "cell_type": "code",
   "execution_count": null,
   "id": "07915ebe",
   "metadata": {
    "execution": {
     "iopub.execute_input": "2023-03-19T18:31:52.650098Z",
     "iopub.status.busy": "2023-03-19T18:31:52.649703Z",
     "iopub.status.idle": "2023-03-19T18:31:53.224403Z",
     "shell.execute_reply": "2023-03-19T18:31:53.222643Z"
    },
    "id": "2410d494",
    "papermill": {
     "duration": 0.673744,
     "end_time": "2023-03-19T18:31:53.228934",
     "exception": false,
     "start_time": "2023-03-19T18:31:52.555190",
     "status": "completed"
    },
    "tags": []
   },
   "outputs": [],
   "source": [
    "with torch.no_grad():\n",
    "    input_data, ans_data = next(iter(train_dataloader))\n",
    "    ans_data = ans_data.to(device)\n",
    "    print(input_data.shape)\n",
    "    print(ans_data.shape)\n",
    "    print(label_to_string(ans_data, id2char))\n",
    "    \n",
    "    result_logit = model(input_data.to(device), ground_truth=ans_data, teacher_forcing_rate=0.5)\n",
    "\n",
    "    result_logit = result_logit[:,:ans_data.size(1),:].contiguous()\n",
    "    ans_data = ans_data[:,:result_logit.size(1)].contiguous()\n",
    "\n",
    "    loss_check = criterion(result_logit.view(-1, result_logit.size(-1)), ans_data.view(-1))\n",
    "    print(loss_check)\n",
    "    y_pred = torch.max(result_logit, dim=-1)[1]\n",
    "    print(label_to_string(y_pred, id2char))"
   ]
  },
  {
   "cell_type": "code",
   "execution_count": null,
   "id": "3df7bd7a",
   "metadata": {
    "execution": {
     "iopub.execute_input": "2023-03-19T18:31:53.432336Z",
     "iopub.status.busy": "2023-03-19T18:31:53.431920Z",
     "iopub.status.idle": "2023-03-19T18:31:54.000155Z",
     "shell.execute_reply": "2023-03-19T18:31:53.998565Z"
    },
    "id": "ab6d8dc8",
    "papermill": {
     "duration": 0.66304,
     "end_time": "2023-03-19T18:31:54.002506",
     "exception": false,
     "start_time": "2023-03-19T18:31:53.339466",
     "status": "completed"
    },
    "tags": []
   },
   "outputs": [],
   "source": [
    "with torch.no_grad():\n",
    "    input_data, ans_data = next(iter(train_dataloader))\n",
    "    ans_data = ans_data.to(device)\n",
    "    print(input_data.shape)\n",
    "    print(ans_data.shape)\n",
    "    print(label_to_string(ans_data, id2char))\n",
    "    \n",
    "    result_logit = model(input_data.to(device), ground_truth=ans_data, teacher_forcing_rate=0.9)\n",
    "\n",
    "    result_logit = result_logit[:,:ans_data.size(1),:].contiguous()\n",
    "    ans_data = ans_data[:,:result_logit.size(1)].contiguous()\n",
    "\n",
    "    loss_check = criterion(result_logit.view(-1, result_logit.size(-1)), ans_data.view(-1))\n",
    "    print(loss_check)\n",
    "    y_pred = torch.max(result_logit, dim=-1)[1]\n",
    "    print(label_to_string(y_pred, id2char))"
   ]
  },
  {
   "cell_type": "code",
   "execution_count": null,
   "id": "48bdbfe6",
   "metadata": {
    "execution": {
     "iopub.execute_input": "2023-03-19T18:31:54.188744Z",
     "iopub.status.busy": "2023-03-19T18:31:54.187994Z",
     "iopub.status.idle": "2023-03-19T18:31:54.421258Z",
     "shell.execute_reply": "2023-03-19T18:31:54.420260Z"
    },
    "id": "cfebd20d",
    "papermill": {
     "duration": 0.329365,
     "end_time": "2023-03-19T18:31:54.423516",
     "exception": false,
     "start_time": "2023-03-19T18:31:54.094151",
     "status": "completed"
    },
    "tags": []
   },
   "outputs": [],
   "source": [
    "plt.plot(loss_history[::5])"
   ]
  },
  {
   "cell_type": "markdown",
   "id": "3321980c",
   "metadata": {
    "id": "2d7fc006",
    "papermill": {
     "duration": 0.089647,
     "end_time": "2023-03-19T18:31:54.603445",
     "exception": false,
     "start_time": "2023-03-19T18:31:54.513798",
     "status": "completed"
    },
    "tags": []
   },
   "source": [
    "* version 1: LAS model with label smoothing, teacher forcing\n",
    "* version 2: specAugment is added(time warping, time msking, frequency masking)\n",
    "* &nbsp;&nbsp;&nbsp; version 2.0.1: fix random seed & cuda() => to.(device)"
   ]
  },
  {
   "cell_type": "markdown",
   "id": "46402113",
   "metadata": {
    "id": "5bb8a87c",
    "papermill": {
     "duration": 0.098146,
     "end_time": "2023-03-19T18:31:54.802734",
     "exception": false,
     "start_time": "2023-03-19T18:31:54.704588",
     "status": "completed"
    },
    "tags": []
   },
   "source": [
    "Reference: https://github.com/qute012/las-ko/blob/master/aihub.ipynb"
   ]
  }
 ],
 "metadata": {
  "kernelspec": {
   "display_name": "Python 3",
   "language": "python",
   "name": "python3"
  },
  "language_info": {
   "codemirror_mode": {
    "name": "ipython",
    "version": 3
   },
   "file_extension": ".py",
   "mimetype": "text/x-python",
   "name": "python",
   "nbconvert_exporter": "python",
   "pygments_lexer": "ipython3",
   "version": "3.7.12"
  },
  "papermill": {
   "default_parameters": {},
   "duration": 12357.332049,
   "end_time": "2023-03-19T18:31:58.749291",
   "environment_variables": {},
   "exception": null,
   "input_path": "__notebook__.ipynb",
   "output_path": "__notebook__.ipynb",
   "parameters": {},
   "start_time": "2023-03-19T15:06:01.417242",
   "version": "2.3.4"
  },
  "widgets": {
   "application/vnd.jupyter.widget-state+json": {
    "state": {
     "025df27931d345c098030c9591940dca": {
      "model_module": "@jupyter-widgets/controls",
      "model_module_version": "1.5.0",
      "model_name": "HBoxModel",
      "state": {
       "_dom_classes": [],
       "_model_module": "@jupyter-widgets/controls",
       "_model_module_version": "1.5.0",
       "_model_name": "HBoxModel",
       "_view_count": null,
       "_view_module": "@jupyter-widgets/controls",
       "_view_module_version": "1.5.0",
       "_view_name": "HBoxView",
       "box_style": "",
       "children": [
        "IPY_MODEL_8917fcbf5ce34d1d8c9127688e09b8dc",
        "IPY_MODEL_d729dc3b88f74f1b9109c337cec0f2d3",
        "IPY_MODEL_0f7a56cbc52041f69157a9f4366dcca7"
       ],
       "layout": "IPY_MODEL_e4937c83099d46f786838ae31365f082"
      }
     },
     "05fcf6ed449f4c698699729ba7f8ce95": {
      "model_module": "@jupyter-widgets/base",
      "model_module_version": "1.2.0",
      "model_name": "LayoutModel",
      "state": {
       "_model_module": "@jupyter-widgets/base",
       "_model_module_version": "1.2.0",
       "_model_name": "LayoutModel",
       "_view_count": null,
       "_view_module": "@jupyter-widgets/base",
       "_view_module_version": "1.2.0",
       "_view_name": "LayoutView",
       "align_content": null,
       "align_items": null,
       "align_self": null,
       "border": null,
       "bottom": null,
       "display": null,
       "flex": null,
       "flex_flow": null,
       "grid_area": null,
       "grid_auto_columns": null,
       "grid_auto_flow": null,
       "grid_auto_rows": null,
       "grid_column": null,
       "grid_gap": null,
       "grid_row": null,
       "grid_template_areas": null,
       "grid_template_columns": null,
       "grid_template_rows": null,
       "height": null,
       "justify_content": null,
       "justify_items": null,
       "left": null,
       "margin": null,
       "max_height": null,
       "max_width": null,
       "min_height": null,
       "min_width": null,
       "object_fit": null,
       "object_position": null,
       "order": null,
       "overflow": null,
       "overflow_x": null,
       "overflow_y": null,
       "padding": null,
       "right": null,
       "top": null,
       "visibility": null,
       "width": null
      }
     },
     "08fe3e8a5998475ab1fb4ce9956a0bce": {
      "model_module": "@jupyter-widgets/base",
      "model_module_version": "1.2.0",
      "model_name": "LayoutModel",
      "state": {
       "_model_module": "@jupyter-widgets/base",
       "_model_module_version": "1.2.0",
       "_model_name": "LayoutModel",
       "_view_count": null,
       "_view_module": "@jupyter-widgets/base",
       "_view_module_version": "1.2.0",
       "_view_name": "LayoutView",
       "align_content": null,
       "align_items": null,
       "align_self": null,
       "border": null,
       "bottom": null,
       "display": null,
       "flex": null,
       "flex_flow": null,
       "grid_area": null,
       "grid_auto_columns": null,
       "grid_auto_flow": null,
       "grid_auto_rows": null,
       "grid_column": null,
       "grid_gap": null,
       "grid_row": null,
       "grid_template_areas": null,
       "grid_template_columns": null,
       "grid_template_rows": null,
       "height": null,
       "justify_content": null,
       "justify_items": null,
       "left": null,
       "margin": null,
       "max_height": null,
       "max_width": null,
       "min_height": null,
       "min_width": null,
       "object_fit": null,
       "object_position": null,
       "order": null,
       "overflow": null,
       "overflow_x": null,
       "overflow_y": null,
       "padding": null,
       "right": null,
       "top": null,
       "visibility": null,
       "width": null
      }
     },
     "0f7a56cbc52041f69157a9f4366dcca7": {
      "model_module": "@jupyter-widgets/controls",
      "model_module_version": "1.5.0",
      "model_name": "HTMLModel",
      "state": {
       "_dom_classes": [],
       "_model_module": "@jupyter-widgets/controls",
       "_model_module_version": "1.5.0",
       "_model_name": "HTMLModel",
       "_view_count": null,
       "_view_module": "@jupyter-widgets/controls",
       "_view_module_version": "1.5.0",
       "_view_name": "HTMLView",
       "description": "",
       "description_tooltip": null,
       "layout": "IPY_MODEL_b5332d25968740edb45b3ffa2644235a",
       "placeholder": "​",
       "style": "IPY_MODEL_7b70f1e1c3204ccb87a423f75cd41785",
       "value": " 5.95G/5.95G [01:06&lt;00:00, 95.6MB/s]"
      }
     },
     "1f57ca722d5e4be8bf6596d996a60a84": {
      "model_module": "@jupyter-widgets/controls",
      "model_module_version": "1.5.0",
      "model_name": "HTMLModel",
      "state": {
       "_dom_classes": [],
       "_model_module": "@jupyter-widgets/controls",
       "_model_module_version": "1.5.0",
       "_model_name": "HTMLModel",
       "_view_count": null,
       "_view_module": "@jupyter-widgets/controls",
       "_view_module_version": "1.5.0",
       "_view_name": "HTMLView",
       "description": "",
       "description_tooltip": null,
       "layout": "IPY_MODEL_42182894830d4ee3a76fb37c839a1036",
       "placeholder": "​",
       "style": "IPY_MODEL_9d3f33b555bb4f86845efde4df5a82aa",
       "value": " 331M/331M [00:03&lt;00:00, 107MB/s]"
      }
     },
     "1fc2fd213cc342fbb35dbff78eed79af": {
      "model_module": "@jupyter-widgets/controls",
      "model_module_version": "1.5.0",
      "model_name": "HTMLModel",
      "state": {
       "_dom_classes": [],
       "_model_module": "@jupyter-widgets/controls",
       "_model_module_version": "1.5.0",
       "_model_name": "HTMLModel",
       "_view_count": null,
       "_view_module": "@jupyter-widgets/controls",
       "_view_module_version": "1.5.0",
       "_view_name": "HTMLView",
       "description": "",
       "description_tooltip": null,
       "layout": "IPY_MODEL_05fcf6ed449f4c698699729ba7f8ce95",
       "placeholder": "​",
       "style": "IPY_MODEL_3ec73412506440449983161c9a86394c",
       "value": "100%"
      }
     },
     "228d1547235b473288e7459c92173d8a": {
      "model_module": "@jupyter-widgets/base",
      "model_module_version": "1.2.0",
      "model_name": "LayoutModel",
      "state": {
       "_model_module": "@jupyter-widgets/base",
       "_model_module_version": "1.2.0",
       "_model_name": "LayoutModel",
       "_view_count": null,
       "_view_module": "@jupyter-widgets/base",
       "_view_module_version": "1.2.0",
       "_view_name": "LayoutView",
       "align_content": null,
       "align_items": null,
       "align_self": null,
       "border": null,
       "bottom": null,
       "display": null,
       "flex": null,
       "flex_flow": null,
       "grid_area": null,
       "grid_auto_columns": null,
       "grid_auto_flow": null,
       "grid_auto_rows": null,
       "grid_column": null,
       "grid_gap": null,
       "grid_row": null,
       "grid_template_areas": null,
       "grid_template_columns": null,
       "grid_template_rows": null,
       "height": null,
       "justify_content": null,
       "justify_items": null,
       "left": null,
       "margin": null,
       "max_height": null,
       "max_width": null,
       "min_height": null,
       "min_width": null,
       "object_fit": null,
       "object_position": null,
       "order": null,
       "overflow": null,
       "overflow_x": null,
       "overflow_y": null,
       "padding": null,
       "right": null,
       "top": null,
       "visibility": null,
       "width": null
      }
     },
     "242bf52767e949caa26f7709b93e367d": {
      "model_module": "@jupyter-widgets/controls",
      "model_module_version": "1.5.0",
      "model_name": "DescriptionStyleModel",
      "state": {
       "_model_module": "@jupyter-widgets/controls",
       "_model_module_version": "1.5.0",
       "_model_name": "DescriptionStyleModel",
       "_view_count": null,
       "_view_module": "@jupyter-widgets/base",
       "_view_module_version": "1.2.0",
       "_view_name": "StyleView",
       "description_width": ""
      }
     },
     "2b4a73ce1b6d4f85abcf7fc5c6fb7acd": {
      "model_module": "@jupyter-widgets/controls",
      "model_module_version": "1.5.0",
      "model_name": "ProgressStyleModel",
      "state": {
       "_model_module": "@jupyter-widgets/controls",
       "_model_module_version": "1.5.0",
       "_model_name": "ProgressStyleModel",
       "_view_count": null,
       "_view_module": "@jupyter-widgets/base",
       "_view_module_version": "1.2.0",
       "_view_name": "StyleView",
       "bar_color": null,
       "description_width": ""
      }
     },
     "30d19327c6884230bac18f4b9ec2772f": {
      "model_module": "@jupyter-widgets/controls",
      "model_module_version": "1.5.0",
      "model_name": "FloatProgressModel",
      "state": {
       "_dom_classes": [],
       "_model_module": "@jupyter-widgets/controls",
       "_model_module_version": "1.5.0",
       "_model_name": "FloatProgressModel",
       "_view_count": null,
       "_view_module": "@jupyter-widgets/controls",
       "_view_module_version": "1.5.0",
       "_view_name": "ProgressView",
       "bar_style": "success",
       "description": "",
       "description_tooltip": null,
       "layout": "IPY_MODEL_4b452cddce0643c78a8679d76bf278de",
       "max": 337926286,
       "min": 0,
       "orientation": "horizontal",
       "style": "IPY_MODEL_2b4a73ce1b6d4f85abcf7fc5c6fb7acd",
       "value": 337926286
      }
     },
     "328ffbc44c714c6b8eb495aaa0e2ab36": {
      "model_module": "@jupyter-widgets/base",
      "model_module_version": "1.2.0",
      "model_name": "LayoutModel",
      "state": {
       "_model_module": "@jupyter-widgets/base",
       "_model_module_version": "1.2.0",
       "_model_name": "LayoutModel",
       "_view_count": null,
       "_view_module": "@jupyter-widgets/base",
       "_view_module_version": "1.2.0",
       "_view_name": "LayoutView",
       "align_content": null,
       "align_items": null,
       "align_self": null,
       "border": null,
       "bottom": null,
       "display": null,
       "flex": null,
       "flex_flow": null,
       "grid_area": null,
       "grid_auto_columns": null,
       "grid_auto_flow": null,
       "grid_auto_rows": null,
       "grid_column": null,
       "grid_gap": null,
       "grid_row": null,
       "grid_template_areas": null,
       "grid_template_columns": null,
       "grid_template_rows": null,
       "height": null,
       "justify_content": null,
       "justify_items": null,
       "left": null,
       "margin": null,
       "max_height": null,
       "max_width": null,
       "min_height": null,
       "min_width": null,
       "object_fit": null,
       "object_position": null,
       "order": null,
       "overflow": null,
       "overflow_x": null,
       "overflow_y": null,
       "padding": null,
       "right": null,
       "top": null,
       "visibility": null,
       "width": null
      }
     },
     "38160e807d9f43978c21c9000caef703": {
      "model_module": "@jupyter-widgets/controls",
      "model_module_version": "1.5.0",
      "model_name": "DescriptionStyleModel",
      "state": {
       "_model_module": "@jupyter-widgets/controls",
       "_model_module_version": "1.5.0",
       "_model_name": "DescriptionStyleModel",
       "_view_count": null,
       "_view_module": "@jupyter-widgets/base",
       "_view_module_version": "1.2.0",
       "_view_name": "StyleView",
       "description_width": ""
      }
     },
     "3ea122dc906e4e2e8b27ca53f53c5de6": {
      "model_module": "@jupyter-widgets/controls",
      "model_module_version": "1.5.0",
      "model_name": "FloatProgressModel",
      "state": {
       "_dom_classes": [],
       "_model_module": "@jupyter-widgets/controls",
       "_model_module_version": "1.5.0",
       "_model_name": "FloatProgressModel",
       "_view_count": null,
       "_view_module": "@jupyter-widgets/controls",
       "_view_module_version": "1.5.0",
       "_view_name": "ProgressView",
       "bar_style": "success",
       "description": "",
       "description_tooltip": null,
       "layout": "IPY_MODEL_6f376d56db704242a0030525bf207d49",
       "max": 346663984,
       "min": 0,
       "orientation": "horizontal",
       "style": "IPY_MODEL_60de078db669444db356e51388fa1cbe",
       "value": 346663984
      }
     },
     "3ec73412506440449983161c9a86394c": {
      "model_module": "@jupyter-widgets/controls",
      "model_module_version": "1.5.0",
      "model_name": "DescriptionStyleModel",
      "state": {
       "_model_module": "@jupyter-widgets/controls",
       "_model_module_version": "1.5.0",
       "_model_name": "DescriptionStyleModel",
       "_view_count": null,
       "_view_module": "@jupyter-widgets/base",
       "_view_module_version": "1.2.0",
       "_view_name": "StyleView",
       "description_width": ""
      }
     },
     "42182894830d4ee3a76fb37c839a1036": {
      "model_module": "@jupyter-widgets/base",
      "model_module_version": "1.2.0",
      "model_name": "LayoutModel",
      "state": {
       "_model_module": "@jupyter-widgets/base",
       "_model_module_version": "1.2.0",
       "_model_name": "LayoutModel",
       "_view_count": null,
       "_view_module": "@jupyter-widgets/base",
       "_view_module_version": "1.2.0",
       "_view_name": "LayoutView",
       "align_content": null,
       "align_items": null,
       "align_self": null,
       "border": null,
       "bottom": null,
       "display": null,
       "flex": null,
       "flex_flow": null,
       "grid_area": null,
       "grid_auto_columns": null,
       "grid_auto_flow": null,
       "grid_auto_rows": null,
       "grid_column": null,
       "grid_gap": null,
       "grid_row": null,
       "grid_template_areas": null,
       "grid_template_columns": null,
       "grid_template_rows": null,
       "height": null,
       "justify_content": null,
       "justify_items": null,
       "left": null,
       "margin": null,
       "max_height": null,
       "max_width": null,
       "min_height": null,
       "min_width": null,
       "object_fit": null,
       "object_position": null,
       "order": null,
       "overflow": null,
       "overflow_x": null,
       "overflow_y": null,
       "padding": null,
       "right": null,
       "top": null,
       "visibility": null,
       "width": null
      }
     },
     "4b452cddce0643c78a8679d76bf278de": {
      "model_module": "@jupyter-widgets/base",
      "model_module_version": "1.2.0",
      "model_name": "LayoutModel",
      "state": {
       "_model_module": "@jupyter-widgets/base",
       "_model_module_version": "1.2.0",
       "_model_name": "LayoutModel",
       "_view_count": null,
       "_view_module": "@jupyter-widgets/base",
       "_view_module_version": "1.2.0",
       "_view_name": "LayoutView",
       "align_content": null,
       "align_items": null,
       "align_self": null,
       "border": null,
       "bottom": null,
       "display": null,
       "flex": null,
       "flex_flow": null,
       "grid_area": null,
       "grid_auto_columns": null,
       "grid_auto_flow": null,
       "grid_auto_rows": null,
       "grid_column": null,
       "grid_gap": null,
       "grid_row": null,
       "grid_template_areas": null,
       "grid_template_columns": null,
       "grid_template_rows": null,
       "height": null,
       "justify_content": null,
       "justify_items": null,
       "left": null,
       "margin": null,
       "max_height": null,
       "max_width": null,
       "min_height": null,
       "min_width": null,
       "object_fit": null,
       "object_position": null,
       "order": null,
       "overflow": null,
       "overflow_x": null,
       "overflow_y": null,
       "padding": null,
       "right": null,
       "top": null,
       "visibility": null,
       "width": null
      }
     },
     "59138d80721a41cca5fcde2b5be27b2d": {
      "model_module": "@jupyter-widgets/base",
      "model_module_version": "1.2.0",
      "model_name": "LayoutModel",
      "state": {
       "_model_module": "@jupyter-widgets/base",
       "_model_module_version": "1.2.0",
       "_model_name": "LayoutModel",
       "_view_count": null,
       "_view_module": "@jupyter-widgets/base",
       "_view_module_version": "1.2.0",
       "_view_name": "LayoutView",
       "align_content": null,
       "align_items": null,
       "align_self": null,
       "border": null,
       "bottom": null,
       "display": null,
       "flex": null,
       "flex_flow": null,
       "grid_area": null,
       "grid_auto_columns": null,
       "grid_auto_flow": null,
       "grid_auto_rows": null,
       "grid_column": null,
       "grid_gap": null,
       "grid_row": null,
       "grid_template_areas": null,
       "grid_template_columns": null,
       "grid_template_rows": null,
       "height": null,
       "justify_content": null,
       "justify_items": null,
       "left": null,
       "margin": null,
       "max_height": null,
       "max_width": null,
       "min_height": null,
       "min_width": null,
       "object_fit": null,
       "object_position": null,
       "order": null,
       "overflow": null,
       "overflow_x": null,
       "overflow_y": null,
       "padding": null,
       "right": null,
       "top": null,
       "visibility": null,
       "width": null
      }
     },
     "60de078db669444db356e51388fa1cbe": {
      "model_module": "@jupyter-widgets/controls",
      "model_module_version": "1.5.0",
      "model_name": "ProgressStyleModel",
      "state": {
       "_model_module": "@jupyter-widgets/controls",
       "_model_module_version": "1.5.0",
       "_model_name": "ProgressStyleModel",
       "_view_count": null,
       "_view_module": "@jupyter-widgets/base",
       "_view_module_version": "1.2.0",
       "_view_name": "StyleView",
       "bar_color": null,
       "description_width": ""
      }
     },
     "697de1397f824dbe87eec2252ccf0d88": {
      "model_module": "@jupyter-widgets/base",
      "model_module_version": "1.2.0",
      "model_name": "LayoutModel",
      "state": {
       "_model_module": "@jupyter-widgets/base",
       "_model_module_version": "1.2.0",
       "_model_name": "LayoutModel",
       "_view_count": null,
       "_view_module": "@jupyter-widgets/base",
       "_view_module_version": "1.2.0",
       "_view_name": "LayoutView",
       "align_content": null,
       "align_items": null,
       "align_self": null,
       "border": null,
       "bottom": null,
       "display": null,
       "flex": null,
       "flex_flow": null,
       "grid_area": null,
       "grid_auto_columns": null,
       "grid_auto_flow": null,
       "grid_auto_rows": null,
       "grid_column": null,
       "grid_gap": null,
       "grid_row": null,
       "grid_template_areas": null,
       "grid_template_columns": null,
       "grid_template_rows": null,
       "height": null,
       "justify_content": null,
       "justify_items": null,
       "left": null,
       "margin": null,
       "max_height": null,
       "max_width": null,
       "min_height": null,
       "min_width": null,
       "object_fit": null,
       "object_position": null,
       "order": null,
       "overflow": null,
       "overflow_x": null,
       "overflow_y": null,
       "padding": null,
       "right": null,
       "top": null,
       "visibility": null,
       "width": null
      }
     },
     "6f376d56db704242a0030525bf207d49": {
      "model_module": "@jupyter-widgets/base",
      "model_module_version": "1.2.0",
      "model_name": "LayoutModel",
      "state": {
       "_model_module": "@jupyter-widgets/base",
       "_model_module_version": "1.2.0",
       "_model_name": "LayoutModel",
       "_view_count": null,
       "_view_module": "@jupyter-widgets/base",
       "_view_module_version": "1.2.0",
       "_view_name": "LayoutView",
       "align_content": null,
       "align_items": null,
       "align_self": null,
       "border": null,
       "bottom": null,
       "display": null,
       "flex": null,
       "flex_flow": null,
       "grid_area": null,
       "grid_auto_columns": null,
       "grid_auto_flow": null,
       "grid_auto_rows": null,
       "grid_column": null,
       "grid_gap": null,
       "grid_row": null,
       "grid_template_areas": null,
       "grid_template_columns": null,
       "grid_template_rows": null,
       "height": null,
       "justify_content": null,
       "justify_items": null,
       "left": null,
       "margin": null,
       "max_height": null,
       "max_width": null,
       "min_height": null,
       "min_width": null,
       "object_fit": null,
       "object_position": null,
       "order": null,
       "overflow": null,
       "overflow_x": null,
       "overflow_y": null,
       "padding": null,
       "right": null,
       "top": null,
       "visibility": null,
       "width": null
      }
     },
     "769cfc8e435b484db9918a8f29708f03": {
      "model_module": "@jupyter-widgets/controls",
      "model_module_version": "1.5.0",
      "model_name": "DescriptionStyleModel",
      "state": {
       "_model_module": "@jupyter-widgets/controls",
       "_model_module_version": "1.5.0",
       "_model_name": "DescriptionStyleModel",
       "_view_count": null,
       "_view_module": "@jupyter-widgets/base",
       "_view_module_version": "1.2.0",
       "_view_name": "StyleView",
       "description_width": ""
      }
     },
     "7750147e91874d8bb74b283c2cdd9c71": {
      "model_module": "@jupyter-widgets/controls",
      "model_module_version": "1.5.0",
      "model_name": "HBoxModel",
      "state": {
       "_dom_classes": [],
       "_model_module": "@jupyter-widgets/controls",
       "_model_module_version": "1.5.0",
       "_model_name": "HBoxModel",
       "_view_count": null,
       "_view_module": "@jupyter-widgets/controls",
       "_view_module_version": "1.5.0",
       "_view_name": "HBoxView",
       "box_style": "",
       "children": [
        "IPY_MODEL_1fc2fd213cc342fbb35dbff78eed79af",
        "IPY_MODEL_30d19327c6884230bac18f4b9ec2772f",
        "IPY_MODEL_77b63f414205445ea28195190c1d53b0"
       ],
       "layout": "IPY_MODEL_328ffbc44c714c6b8eb495aaa0e2ab36"
      }
     },
     "77b63f414205445ea28195190c1d53b0": {
      "model_module": "@jupyter-widgets/controls",
      "model_module_version": "1.5.0",
      "model_name": "HTMLModel",
      "state": {
       "_dom_classes": [],
       "_model_module": "@jupyter-widgets/controls",
       "_model_module_version": "1.5.0",
       "_model_name": "HTMLModel",
       "_view_count": null,
       "_view_module": "@jupyter-widgets/controls",
       "_view_module_version": "1.5.0",
       "_view_name": "HTMLView",
       "description": "",
       "description_tooltip": null,
       "layout": "IPY_MODEL_08fe3e8a5998475ab1fb4ce9956a0bce",
       "placeholder": "​",
       "style": "IPY_MODEL_769cfc8e435b484db9918a8f29708f03",
       "value": " 322M/322M [00:03&lt;00:00, 99.6MB/s]"
      }
     },
     "7b70f1e1c3204ccb87a423f75cd41785": {
      "model_module": "@jupyter-widgets/controls",
      "model_module_version": "1.5.0",
      "model_name": "DescriptionStyleModel",
      "state": {
       "_model_module": "@jupyter-widgets/controls",
       "_model_module_version": "1.5.0",
       "_model_name": "DescriptionStyleModel",
       "_view_count": null,
       "_view_module": "@jupyter-widgets/base",
       "_view_module_version": "1.2.0",
       "_view_name": "StyleView",
       "description_width": ""
      }
     },
     "7fc0eb44dba646d4833c8b32288fd414": {
      "model_module": "@jupyter-widgets/controls",
      "model_module_version": "1.5.0",
      "model_name": "HTMLModel",
      "state": {
       "_dom_classes": [],
       "_model_module": "@jupyter-widgets/controls",
       "_model_module_version": "1.5.0",
       "_model_name": "HTMLModel",
       "_view_count": null,
       "_view_module": "@jupyter-widgets/controls",
       "_view_module_version": "1.5.0",
       "_view_name": "HTMLView",
       "description": "",
       "description_tooltip": null,
       "layout": "IPY_MODEL_59138d80721a41cca5fcde2b5be27b2d",
       "placeholder": "​",
       "style": "IPY_MODEL_242bf52767e949caa26f7709b93e367d",
       "value": "100%"
      }
     },
     "866665f6d5404f848a39226b12a1854f": {
      "model_module": "@jupyter-widgets/controls",
      "model_module_version": "1.5.0",
      "model_name": "HBoxModel",
      "state": {
       "_dom_classes": [],
       "_model_module": "@jupyter-widgets/controls",
       "_model_module_version": "1.5.0",
       "_model_name": "HBoxModel",
       "_view_count": null,
       "_view_module": "@jupyter-widgets/controls",
       "_view_module_version": "1.5.0",
       "_view_name": "HBoxView",
       "box_style": "",
       "children": [
        "IPY_MODEL_7fc0eb44dba646d4833c8b32288fd414",
        "IPY_MODEL_3ea122dc906e4e2e8b27ca53f53c5de6",
        "IPY_MODEL_1f57ca722d5e4be8bf6596d996a60a84"
       ],
       "layout": "IPY_MODEL_228d1547235b473288e7459c92173d8a"
      }
     },
     "8917fcbf5ce34d1d8c9127688e09b8dc": {
      "model_module": "@jupyter-widgets/controls",
      "model_module_version": "1.5.0",
      "model_name": "HTMLModel",
      "state": {
       "_dom_classes": [],
       "_model_module": "@jupyter-widgets/controls",
       "_model_module_version": "1.5.0",
       "_model_name": "HTMLModel",
       "_view_count": null,
       "_view_module": "@jupyter-widgets/controls",
       "_view_module_version": "1.5.0",
       "_view_name": "HTMLView",
       "description": "",
       "description_tooltip": null,
       "layout": "IPY_MODEL_697de1397f824dbe87eec2252ccf0d88",
       "placeholder": "​",
       "style": "IPY_MODEL_38160e807d9f43978c21c9000caef703",
       "value": "100%"
      }
     },
     "9d3f33b555bb4f86845efde4df5a82aa": {
      "model_module": "@jupyter-widgets/controls",
      "model_module_version": "1.5.0",
      "model_name": "DescriptionStyleModel",
      "state": {
       "_model_module": "@jupyter-widgets/controls",
       "_model_module_version": "1.5.0",
       "_model_name": "DescriptionStyleModel",
       "_view_count": null,
       "_view_module": "@jupyter-widgets/base",
       "_view_module_version": "1.2.0",
       "_view_name": "StyleView",
       "description_width": ""
      }
     },
     "b5332d25968740edb45b3ffa2644235a": {
      "model_module": "@jupyter-widgets/base",
      "model_module_version": "1.2.0",
      "model_name": "LayoutModel",
      "state": {
       "_model_module": "@jupyter-widgets/base",
       "_model_module_version": "1.2.0",
       "_model_name": "LayoutModel",
       "_view_count": null,
       "_view_module": "@jupyter-widgets/base",
       "_view_module_version": "1.2.0",
       "_view_name": "LayoutView",
       "align_content": null,
       "align_items": null,
       "align_self": null,
       "border": null,
       "bottom": null,
       "display": null,
       "flex": null,
       "flex_flow": null,
       "grid_area": null,
       "grid_auto_columns": null,
       "grid_auto_flow": null,
       "grid_auto_rows": null,
       "grid_column": null,
       "grid_gap": null,
       "grid_row": null,
       "grid_template_areas": null,
       "grid_template_columns": null,
       "grid_template_rows": null,
       "height": null,
       "justify_content": null,
       "justify_items": null,
       "left": null,
       "margin": null,
       "max_height": null,
       "max_width": null,
       "min_height": null,
       "min_width": null,
       "object_fit": null,
       "object_position": null,
       "order": null,
       "overflow": null,
       "overflow_x": null,
       "overflow_y": null,
       "padding": null,
       "right": null,
       "top": null,
       "visibility": null,
       "width": null
      }
     },
     "d729dc3b88f74f1b9109c337cec0f2d3": {
      "model_module": "@jupyter-widgets/controls",
      "model_module_version": "1.5.0",
      "model_name": "FloatProgressModel",
      "state": {
       "_dom_classes": [],
       "_model_module": "@jupyter-widgets/controls",
       "_model_module_version": "1.5.0",
       "_model_name": "FloatProgressModel",
       "_view_count": null,
       "_view_module": "@jupyter-widgets/controls",
       "_view_module_version": "1.5.0",
       "_view_name": "ProgressView",
       "bar_style": "success",
       "description": "",
       "description_tooltip": null,
       "layout": "IPY_MODEL_e3442c602a44449384be79ffa7c9a275",
       "max": 6387309499,
       "min": 0,
       "orientation": "horizontal",
       "style": "IPY_MODEL_f8e2eb451de246cd899d6f066ef38084",
       "value": 6387309499
      }
     },
     "e3442c602a44449384be79ffa7c9a275": {
      "model_module": "@jupyter-widgets/base",
      "model_module_version": "1.2.0",
      "model_name": "LayoutModel",
      "state": {
       "_model_module": "@jupyter-widgets/base",
       "_model_module_version": "1.2.0",
       "_model_name": "LayoutModel",
       "_view_count": null,
       "_view_module": "@jupyter-widgets/base",
       "_view_module_version": "1.2.0",
       "_view_name": "LayoutView",
       "align_content": null,
       "align_items": null,
       "align_self": null,
       "border": null,
       "bottom": null,
       "display": null,
       "flex": null,
       "flex_flow": null,
       "grid_area": null,
       "grid_auto_columns": null,
       "grid_auto_flow": null,
       "grid_auto_rows": null,
       "grid_column": null,
       "grid_gap": null,
       "grid_row": null,
       "grid_template_areas": null,
       "grid_template_columns": null,
       "grid_template_rows": null,
       "height": null,
       "justify_content": null,
       "justify_items": null,
       "left": null,
       "margin": null,
       "max_height": null,
       "max_width": null,
       "min_height": null,
       "min_width": null,
       "object_fit": null,
       "object_position": null,
       "order": null,
       "overflow": null,
       "overflow_x": null,
       "overflow_y": null,
       "padding": null,
       "right": null,
       "top": null,
       "visibility": null,
       "width": null
      }
     },
     "e4937c83099d46f786838ae31365f082": {
      "model_module": "@jupyter-widgets/base",
      "model_module_version": "1.2.0",
      "model_name": "LayoutModel",
      "state": {
       "_model_module": "@jupyter-widgets/base",
       "_model_module_version": "1.2.0",
       "_model_name": "LayoutModel",
       "_view_count": null,
       "_view_module": "@jupyter-widgets/base",
       "_view_module_version": "1.2.0",
       "_view_name": "LayoutView",
       "align_content": null,
       "align_items": null,
       "align_self": null,
       "border": null,
       "bottom": null,
       "display": null,
       "flex": null,
       "flex_flow": null,
       "grid_area": null,
       "grid_auto_columns": null,
       "grid_auto_flow": null,
       "grid_auto_rows": null,
       "grid_column": null,
       "grid_gap": null,
       "grid_row": null,
       "grid_template_areas": null,
       "grid_template_columns": null,
       "grid_template_rows": null,
       "height": null,
       "justify_content": null,
       "justify_items": null,
       "left": null,
       "margin": null,
       "max_height": null,
       "max_width": null,
       "min_height": null,
       "min_width": null,
       "object_fit": null,
       "object_position": null,
       "order": null,
       "overflow": null,
       "overflow_x": null,
       "overflow_y": null,
       "padding": null,
       "right": null,
       "top": null,
       "visibility": null,
       "width": null
      }
     },
     "f8e2eb451de246cd899d6f066ef38084": {
      "model_module": "@jupyter-widgets/controls",
      "model_module_version": "1.5.0",
      "model_name": "ProgressStyleModel",
      "state": {
       "_model_module": "@jupyter-widgets/controls",
       "_model_module_version": "1.5.0",
       "_model_name": "ProgressStyleModel",
       "_view_count": null,
       "_view_module": "@jupyter-widgets/base",
       "_view_module_version": "1.2.0",
       "_view_name": "StyleView",
       "bar_color": null,
       "description_width": ""
      }
     }
    },
    "version_major": 2,
    "version_minor": 0
   }
  }
 },
 "nbformat": 4,
 "nbformat_minor": 5
}
